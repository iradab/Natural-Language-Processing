{
  "nbformat": 4,
  "nbformat_minor": 5,
  "metadata": {
    "kernelspec": {
      "display_name": "Python 3",
      "language": "python",
      "name": "python3"
    },
    "language_info": {
      "codemirror_mode": {
        "name": "ipython",
        "version": 3
      },
      "file_extension": ".py",
      "mimetype": "text/x-python",
      "name": "python",
      "nbconvert_exporter": "python",
      "pygments_lexer": "ipython3",
      "version": "3.7.10"
    },
    "colab": {
      "name": "Sentiment-analysis.ipynb",
      "provenance": [],
      "collapsed_sections": [
        "1296da34",
        "2c47f45c",
        "0e6948f8"
      ],
      "toc_visible": true
    },
    "accelerator": "GPU"
  },
  "cells": [
    {
      "cell_type": "markdown",
      "metadata": {
        "id": "33996fbe"
      },
      "source": [
        "# TP : Sentiment analysis on IMDB movie reviews"
      ],
      "id": "33996fbe"
    },
    {
      "cell_type": "markdown",
      "metadata": {
        "id": "744dbe14"
      },
      "source": [
        "## Objectives:\n",
        "\n",
        "1. Use a simple way to represent textual data - Bag of words\n",
        "2. Test it with a simple model for a sentiment classification task - Naïve Bayesian\n",
        "3. Explore improvements to these simple representations\n",
        "4. Explore various methods to obtain dense representations (word embeddings) of the same data\n",
        "5. Test these new representations with a simple classification model\n",
        "6. Fine-tune a BERT model to execute the same classification task"
      ],
      "id": "744dbe14"
    },
    {
      "cell_type": "markdown",
      "metadata": {
        "id": "97244b81"
      },
      "source": [
        "## Necessary dependencies\n",
        "\n",
        "We will need the following packages:\n",
        "- The Machine Learning API Scikit-learn : http://scikit-learn.org/stable/install.html\n",
        "- The Natural Language Toolkit : http://www.nltk.org/install.html\n",
        "\n",
        "Both are available with Anaconda: https://anaconda.org/anaconda/nltk and https://anaconda.org/anaconda/scikit-learn"
      ],
      "id": "97244b81"
    },
    {
      "cell_type": "code",
      "metadata": {
        "id": "dceaa047"
      },
      "source": [
        "import os.path as op\n",
        "import re \n",
        "import numpy as np\n",
        "import matplotlib.pyplot as plt"
      ],
      "id": "dceaa047",
      "execution_count": 1,
      "outputs": []
    },
    {
      "cell_type": "markdown",
      "metadata": {
        "id": "b85a8351"
      },
      "source": [
        "## Loading data\n",
        "\n",
        "We retrieve the textual data in the variable *texts*.\n",
        "\n",
        "The labels are retrieved in the variable $y$ - it contains *len(texts)* of them: $0$ indicates that the corresponding review is negative while $1$ indicates that it is positive."
      ],
      "id": "b85a8351"
    },
    {
      "cell_type": "code",
      "metadata": {
        "colab": {
          "base_uri": "https://localhost:8080/"
        },
        "id": "08360f4a",
        "outputId": "719eaaaf-7ae3-4ff2-fb80-a3a17cf95e2f"
      },
      "source": [
        "# For those on google colab: you can download the files directly with this:\n",
        "import gdown\n",
        "gdown.download(\"http://ai.stanford.edu/~amaas/data/sentiment/aclImdb_v1.tar.gz\", output=\"aclImdb_v1.tar.gz\", quiet=False)\n",
        "!tar xzf /content/aclImdb_v1.tar.gz"
      ],
      "id": "08360f4a",
      "execution_count": 2,
      "outputs": [
        {
          "output_type": "stream",
          "name": "stderr",
          "text": [
            "Downloading...\n",
            "From: http://ai.stanford.edu/~amaas/data/sentiment/aclImdb_v1.tar.gz\n",
            "To: /content/aclImdb_v1.tar.gz\n",
            "100%|██████████| 84.1M/84.1M [00:02<00:00, 38.3MB/s]\n"
          ]
        }
      ]
    },
    {
      "cell_type": "code",
      "metadata": {
        "id": "016c316a",
        "colab": {
          "base_uri": "https://localhost:8080/",
          "height": 35
        },
        "outputId": "4f55ca2e-d767-42b0-ee13-8aa8b8dfbeda"
      },
      "source": [
        "from glob import glob\n",
        "# We get the files from the path: ./aclImdb/train/neg for negative reviews, and ./aclImdb/train/pos for positive reviews\n",
        "train_filenames_neg = sorted(glob(op.join('.', 'aclImdb', 'train', 'neg', '*.txt')))\n",
        "train_filenames_pos = sorted(glob(op.join('.', 'aclImdb', 'train', 'pos', '*.txt')))\n",
        "\n",
        "\"\"\"\n",
        "test_filenames_neg = sorted(glob(op.join('.', 'aclImdb', 'test', 'neg', '*.txt')))\n",
        "test_filenames_pos = sorted(glob(op.join('.', 'aclImdb', 'test', 'pos', '*.txt')))\n",
        "\"\"\"\n",
        "\n",
        "# Each files contains a review that consists in one line of text: we put this string in two lists, that we concatenate\n",
        "train_texts_neg = [open(f, encoding=\"utf8\").read() for f in train_filenames_neg]\n",
        "train_texts_pos = [open(f, encoding=\"utf8\").read() for f in train_filenames_pos]\n",
        "train_texts = train_texts_neg + train_texts_pos\n",
        "\n",
        "\"\"\"\n",
        "test_texts_neg = [open(f, encoding=\"utf8\").read() for f in test_filenames_neg]\n",
        "test_texts_pos = [open(f, encoding=\"utf8\").read() for f in test_filenames_pos]\n",
        "test_texts = test_texts_neg + test_texts_pos\n",
        "\"\"\"\n",
        "\n",
        "# The first half of the elements of the list are string of negative reviews, and the second half positive ones\n",
        "# We create the labels, as an array of [1,len(texts)], filled with 1, and change the first half to 0\n",
        "train_labels = np.ones(len(train_texts), dtype=int)\n",
        "train_labels[:len(train_texts_neg)] = 0.\n",
        "\n",
        "\"\"\"\n",
        "test_labels = np.ones(len(test_texts), dtype=np.int)\n",
        "test_labels[:len(test_texts_neg)] = 0.\n",
        "\"\"\""
      ],
      "id": "016c316a",
      "execution_count": 3,
      "outputs": [
        {
          "output_type": "execute_result",
          "data": {
            "application/vnd.google.colaboratory.intrinsic+json": {
              "type": "string"
            },
            "text/plain": [
              "'\\ntest_labels = np.ones(len(test_texts), dtype=np.int)\\ntest_labels[:len(test_texts_neg)] = 0.\\n'"
            ]
          },
          "metadata": {},
          "execution_count": 3
        }
      ]
    },
    {
      "cell_type": "code",
      "metadata": {
        "id": "S2qOBwDsC5Zb",
        "colab": {
          "base_uri": "https://localhost:8080/",
          "height": 153
        },
        "outputId": "bd0e4c31-db29-4800-9397-5f8177acff8d"
      },
      "source": [
        "train_texts[2]"
      ],
      "id": "S2qOBwDsC5Zb",
      "execution_count": 4,
      "outputs": [
        {
          "output_type": "execute_result",
          "data": {
            "application/vnd.google.colaboratory.intrinsic+json": {
              "type": "string"
            },
            "text/plain": [
              "\"This film lacked something I couldn't put my finger on at first: charisma on the part of the leading actress. This inevitably translated to lack of chemistry when she shared the screen with her leading man. Even the romantic scenes came across as being merely the actors at play. It could very well have been the director who miscalculated what he needed from the actors. I just don't know.<br /><br />But could it have been the screenplay? Just exactly who was the chef in love with? He seemed more enamored of his culinary skills and restaurant, and ultimately of himself and his youthful exploits, than of anybody or anything else. He never convinced me he was in love with the princess.<br /><br />I was disappointed in this movie. But, don't forget it was nominated for an Oscar, so judge for yourself.\""
            ]
          },
          "metadata": {},
          "execution_count": 4
        }
      ]
    },
    {
      "cell_type": "markdown",
      "metadata": {
        "id": "973119f0"
      },
      "source": [
        "Example of one document:"
      ],
      "id": "973119f0"
    },
    {
      "cell_type": "code",
      "metadata": {
        "id": "f13c9fb7",
        "colab": {
          "base_uri": "https://localhost:8080/",
          "height": 136
        },
        "outputId": "863067e8-a63d-4781-c9d6-9a9e35eac57e"
      },
      "source": [
        "open(\"./aclImdb/train/neg/0_3.txt\", encoding=\"utf8\").read()"
      ],
      "id": "f13c9fb7",
      "execution_count": 5,
      "outputs": [
        {
          "output_type": "execute_result",
          "data": {
            "application/vnd.google.colaboratory.intrinsic+json": {
              "type": "string"
            },
            "text/plain": [
              "\"Story of a man who has unnatural feelings for a pig. Starts out with a opening scene that is a terrific example of absurd comedy. A formal orchestra audience is turned into an insane, violent mob by the crazy chantings of it's singers. Unfortunately it stays absurd the WHOLE time with no general narrative eventually making it just too off putting. Even those from the era should be turned off. The cryptic dialogue would make Shakespeare seem easy to a third grader. On a technical level it's better than you might think with some good cinematography by future great Vilmos Zsigmond. Future stars Sally Kirkland and Frederic Forrest can be seen briefly.\""
            ]
          },
          "metadata": {},
          "execution_count": 5
        }
      ]
    },
    {
      "cell_type": "markdown",
      "metadata": {
        "id": "c567d46c"
      },
      "source": [
        "**In this lab, the impact of our choice of representations upon our results will also depend on the quantity of data we use:** try to see how changing the parameter ```k``` affects our results !"
      ],
      "id": "c567d46c"
    },
    {
      "cell_type": "code",
      "metadata": {
        "id": "a5c15f4d",
        "colab": {
          "base_uri": "https://localhost:8080/"
        },
        "outputId": "f05920ce-3a67-43fa-f6a1-1c0af6a291d8"
      },
      "source": [
        "# This number of documents may be high for most computers: we can select a fraction of them (here, one in k)\n",
        "# Use an even number to keep the same number of positive and negative reviews\n",
        "k = 100\n",
        "train_texts_reduced = train_texts[0::k]\n",
        "train_labels_reduced = train_labels[0::k]\n",
        "\n",
        "print('Number of documents:', len(train_texts_reduced))"
      ],
      "id": "a5c15f4d",
      "execution_count": 6,
      "outputs": [
        {
          "output_type": "stream",
          "name": "stdout",
          "text": [
            "Number of documents: 250\n"
          ]
        }
      ]
    },
    {
      "cell_type": "markdown",
      "metadata": {
        "id": "fab205df"
      },
      "source": [
        "We can use a function from sklearn, ```train_test_split```, to separate data into training and validation sets:"
      ],
      "id": "fab205df"
    },
    {
      "cell_type": "code",
      "metadata": {
        "id": "355fd2a5"
      },
      "source": [
        "from sklearn.model_selection import train_test_split"
      ],
      "id": "355fd2a5",
      "execution_count": 7,
      "outputs": []
    },
    {
      "cell_type": "code",
      "metadata": {
        "id": "a9257fd2"
      },
      "source": [
        "train_texts_splt, val_texts, train_labels_splt, val_labels = train_test_split(train_texts_reduced, train_labels_reduced, test_size=.2)"
      ],
      "id": "a9257fd2",
      "execution_count": 8,
      "outputs": []
    },
    {
      "cell_type": "markdown",
      "metadata": {
        "id": "69f8a35b"
      },
      "source": [
        "## Adapted representation of documents\n",
        "\n",
        "Our statistical model, like most models applied to textual data, uses counts of word occurrences in a document. Thus, a very convenient way to represent a document is to use a Bag-of-Words (BoW) vector, containing the counts of each word (regardless of their order of occurrence) in the document. \n",
        "\n",
        "If we consider the set of all the words appearing in our $T$ training documents, which we note $V$ (Vocabulary), we can create **an index**, which is a bijection associating to each $w$ word an integer, which will be its position in $V$. \n",
        "\n",
        "Thus, for a document extracted from a set of documents containing $|V|$ different words, a BoW representation will be a vector of size $|V|$, whose value at the index of a word $w$ will be its number of occurrences in the document. \n",
        "\n",
        "We can use the **CountVectorizer** class from scikit-learn to obtain these representations:"
      ],
      "id": "69f8a35b"
    },
    {
      "cell_type": "code",
      "metadata": {
        "id": "33f48d41"
      },
      "source": [
        "from sklearn.feature_extraction.text import CountVectorizer"
      ],
      "id": "33f48d41",
      "execution_count": 9,
      "outputs": []
    },
    {
      "cell_type": "code",
      "metadata": {
        "id": "f4ad8a7e",
        "colab": {
          "base_uri": "https://localhost:8080/"
        },
        "outputId": "b452a86e-72f2-4e9f-fd08-88d2afd853b4"
      },
      "source": [
        "corpus = ['I walked down down the boulevard',\n",
        "          'I walked down the avenue',\n",
        "          'I ran down the boulevard',\n",
        "          'I walk down the city',\n",
        "          'I walk down the the avenue']\n",
        "vectorizer = CountVectorizer()\n",
        "\n",
        "Bow = vectorizer.fit_transform(corpus)\n",
        "\n",
        "print(vectorizer.get_feature_names())\n",
        "Bow.toarray()"
      ],
      "id": "f4ad8a7e",
      "execution_count": 10,
      "outputs": [
        {
          "output_type": "stream",
          "name": "stdout",
          "text": [
            "['avenue', 'boulevard', 'city', 'down', 'ran', 'the', 'walk', 'walked']\n"
          ]
        },
        {
          "output_type": "execute_result",
          "data": {
            "text/plain": [
              "array([[0, 1, 0, 2, 0, 1, 0, 1],\n",
              "       [1, 0, 0, 1, 0, 1, 0, 1],\n",
              "       [0, 1, 0, 1, 1, 1, 0, 0],\n",
              "       [0, 0, 1, 1, 0, 1, 1, 0],\n",
              "       [1, 0, 0, 1, 0, 2, 1, 0]])"
            ]
          },
          "metadata": {},
          "execution_count": 10
        }
      ]
    },
    {
      "cell_type": "markdown",
      "metadata": {
        "id": "5fb6027b"
      },
      "source": [
        "Careful: check the memory that the representations are going to use (given the way they are build). What ```CountVectorizer``` argument allows to avoid the issue ? \n",
        "\n"
      ],
      "id": "5fb6027b"
    },
    {
      "cell_type": "code",
      "metadata": {
        "id": "LRSGHnelz_C-"
      },
      "source": [
        "\n",
        "# Answer: the max_features \n",
        "# parameter allows to avoid the issue, so that 'consider the top max_features ordered by term frequency across the corpus.'\n"
      ],
      "id": "LRSGHnelz_C-",
      "execution_count": 11,
      "outputs": []
    },
    {
      "cell_type": "code",
      "metadata": {
        "id": "6b275a5d",
        "colab": {
          "base_uri": "https://localhost:8080/"
        },
        "outputId": "2accaf1c-e045-40ab-d4d4-5ddff06eecc2"
      },
      "source": [
        "# Create and fit the vectorizer to the training data\n",
        "\n",
        "\n",
        "vectorizer =CountVectorizer()\n",
        "train_bow = vectorizer.fit_transform(train_texts_splt)\n",
        "\n",
        "train_bow.toarray()"
      ],
      "id": "6b275a5d",
      "execution_count": 12,
      "outputs": [
        {
          "output_type": "execute_result",
          "data": {
            "text/plain": [
              "array([[0, 0, 0, ..., 0, 0, 0],\n",
              "       [0, 0, 0, ..., 0, 0, 0],\n",
              "       [0, 0, 2, ..., 0, 0, 0],\n",
              "       ...,\n",
              "       [0, 0, 0, ..., 0, 0, 0],\n",
              "       [0, 0, 0, ..., 0, 0, 0],\n",
              "       [0, 0, 0, ..., 0, 0, 0]])"
            ]
          },
          "metadata": {},
          "execution_count": 12
        }
      ]
    },
    {
      "cell_type": "code",
      "metadata": {
        "id": "6d414db6",
        "colab": {
          "base_uri": "https://localhost:8080/"
        },
        "outputId": "0a528202-09cf-450c-ef07-b001093cd877"
      },
      "source": [
        "print(train_bow.shape)"
      ],
      "id": "6d414db6",
      "execution_count": 13,
      "outputs": [
        {
          "output_type": "stream",
          "name": "stdout",
          "text": [
            "(200, 6723)\n"
          ]
        }
      ]
    },
    {
      "cell_type": "code",
      "metadata": {
        "id": "30fc14d2",
        "colab": {
          "base_uri": "https://localhost:8080/"
        },
        "outputId": "c1ade99f-07b0-4a91-d976-23a8230fbd1e"
      },
      "source": [
        "# Transform the validation data\n",
        "val_bow = vectorizer.transform(val_texts)\n",
        "val_bow.toarray()"
      ],
      "id": "30fc14d2",
      "execution_count": 14,
      "outputs": [
        {
          "output_type": "execute_result",
          "data": {
            "text/plain": [
              "array([[0, 0, 0, ..., 0, 0, 0],\n",
              "       [0, 0, 0, ..., 0, 0, 0],\n",
              "       [0, 0, 1, ..., 0, 0, 0],\n",
              "       ...,\n",
              "       [0, 0, 0, ..., 0, 0, 0],\n",
              "       [0, 0, 0, ..., 0, 0, 0],\n",
              "       [0, 0, 0, ..., 0, 0, 0]])"
            ]
          },
          "metadata": {},
          "execution_count": 14
        }
      ]
    },
    {
      "cell_type": "code",
      "metadata": {
        "id": "Anil_bUEciu9",
        "colab": {
          "base_uri": "https://localhost:8080/"
        },
        "outputId": "9c3c35dd-c796-4b7e-f7f6-d4bbc3a863bc"
      },
      "source": [
        "val_bow.shape"
      ],
      "id": "Anil_bUEciu9",
      "execution_count": 15,
      "outputs": [
        {
          "output_type": "execute_result",
          "data": {
            "text/plain": [
              "(50, 6723)"
            ]
          },
          "metadata": {},
          "execution_count": 15
        }
      ]
    },
    {
      "cell_type": "markdown",
      "metadata": {
        "id": "9414783a"
      },
      "source": [
        "We are going to use the scikit-learn ```MultinomialNB```, an implementation of the Naive Bayesian model. Here, what is the naïve hypothesis ? "
      ],
      "id": "9414783a"
    },
    {
      "cell_type": "markdown",
      "metadata": {
        "id": "_ujTCmEFYOGi"
      },
      "source": [
        "Answer: the hypothesis is that there is no dependence between attributes."
      ],
      "id": "_ujTCmEFYOGi"
    },
    {
      "cell_type": "code",
      "metadata": {
        "id": "87ff654a"
      },
      "source": [
        "from sklearn.naive_bayes import MultinomialNB"
      ],
      "id": "87ff654a",
      "execution_count": 16,
      "outputs": []
    },
    {
      "cell_type": "code",
      "metadata": {
        "id": "7227dd08"
      },
      "source": [
        "# Fit the model on the training data"
      ],
      "id": "7227dd08",
      "execution_count": 17,
      "outputs": []
    },
    {
      "cell_type": "code",
      "metadata": {
        "id": "SZcDGUQ2e9A1",
        "colab": {
          "base_uri": "https://localhost:8080/"
        },
        "outputId": "6faf7c06-36c0-4289-fe77-a861babc64c7"
      },
      "source": [
        "clf = MultinomialNB()\n",
        "clf.fit(train_bow,train_labels_splt)"
      ],
      "id": "SZcDGUQ2e9A1",
      "execution_count": 18,
      "outputs": [
        {
          "output_type": "execute_result",
          "data": {
            "text/plain": [
              "MultinomialNB(alpha=1.0, class_prior=None, fit_prior=True)"
            ]
          },
          "metadata": {},
          "execution_count": 18
        }
      ]
    },
    {
      "cell_type": "code",
      "metadata": {
        "id": "3242cc7b"
      },
      "source": [
        "from sklearn.metrics import confusion_matrix, ConfusionMatrixDisplay, classification_report"
      ],
      "id": "3242cc7b",
      "execution_count": 19,
      "outputs": []
    },
    {
      "cell_type": "code",
      "metadata": {
        "id": "5572e83b"
      },
      "source": [
        "# Test it on the validation data "
      ],
      "id": "5572e83b",
      "execution_count": 20,
      "outputs": []
    },
    {
      "cell_type": "code",
      "metadata": {
        "id": "D05jF30vf8Tb"
      },
      "source": [
        "predictions = clf.predict(val_bow)"
      ],
      "id": "D05jF30vf8Tb",
      "execution_count": 21,
      "outputs": []
    },
    {
      "cell_type": "code",
      "metadata": {
        "id": "f3gjqaImf_EL",
        "colab": {
          "base_uri": "https://localhost:8080/"
        },
        "outputId": "0c5648f5-ebfb-4a6f-aba2-e5ae3ff70003"
      },
      "source": [
        "clf.score(val_bow, val_labels)  # mean accuracy"
      ],
      "id": "f3gjqaImf_EL",
      "execution_count": 22,
      "outputs": [
        {
          "output_type": "execute_result",
          "data": {
            "text/plain": [
              "0.72"
            ]
          },
          "metadata": {},
          "execution_count": 22
        }
      ]
    },
    {
      "cell_type": "code",
      "metadata": {
        "id": "tHvQb6DAgxZ7",
        "colab": {
          "base_uri": "https://localhost:8080/"
        },
        "outputId": "c55aa0b0-ff7e-411f-b349-01754b18413f"
      },
      "source": [
        "print(classification_report(val_labels, predictions))"
      ],
      "id": "tHvQb6DAgxZ7",
      "execution_count": 23,
      "outputs": [
        {
          "output_type": "stream",
          "name": "stdout",
          "text": [
            "              precision    recall  f1-score   support\n",
            "\n",
            "           0       0.72      0.82      0.77        28\n",
            "           1       0.72      0.59      0.65        22\n",
            "\n",
            "    accuracy                           0.72        50\n",
            "   macro avg       0.72      0.71      0.71        50\n",
            "weighted avg       0.72      0.72      0.72        50\n",
            "\n"
          ]
        }
      ]
    },
    {
      "cell_type": "code",
      "metadata": {
        "id": "Q9o1p0AJgdMa"
      },
      "source": [
        "cm = confusion_matrix(val_labels, predictions, labels= clf.classes_)"
      ],
      "id": "Q9o1p0AJgdMa",
      "execution_count": 24,
      "outputs": []
    },
    {
      "cell_type": "code",
      "metadata": {
        "id": "tJBd7MRlgdTr",
        "colab": {
          "base_uri": "https://localhost:8080/"
        },
        "outputId": "01e0b716-0dc1-45fb-c745-268fafc09a9e"
      },
      "source": [
        "print(cm)"
      ],
      "id": "tJBd7MRlgdTr",
      "execution_count": 25,
      "outputs": [
        {
          "output_type": "stream",
          "name": "stdout",
          "text": [
            "[[23  5]\n",
            " [ 9 13]]\n"
          ]
        }
      ]
    },
    {
      "cell_type": "code",
      "metadata": {
        "id": "xkaHXZhkgf8T"
      },
      "source": [
        "disp = ConfusionMatrixDisplay(confusion_matrix=cm,  display_labels=clf.classes_)"
      ],
      "id": "xkaHXZhkgf8T",
      "execution_count": 26,
      "outputs": []
    },
    {
      "cell_type": "code",
      "metadata": {
        "id": "7zXZFB07giRD",
        "colab": {
          "base_uri": "https://localhost:8080/",
          "height": 296
        },
        "outputId": "d4ed6505-ce66-454f-d3d4-2c0151c24355"
      },
      "source": [
        "disp.plot()"
      ],
      "id": "7zXZFB07giRD",
      "execution_count": 27,
      "outputs": [
        {
          "output_type": "execute_result",
          "data": {
            "text/plain": [
              "<sklearn.metrics._plot.confusion_matrix.ConfusionMatrixDisplay at 0x7f2bf6019290>"
            ]
          },
          "metadata": {},
          "execution_count": 27
        },
        {
          "output_type": "display_data",
          "data": {
            "image/png": "[encoded data removed]",
            "text/plain": [
              "<Figure size 432x288 with 2 Axes>"
            ]
          },
          "metadata": {
            "needs_background": "light"
          }
        }
      ]
    },
    {
      "cell_type": "markdown",
      "metadata": {
        "id": "d8bb3b1d"
      },
      "source": [
        "Let us look at the *features* built by the ```vectorizer```. How can we improve them ? "
      ],
      "id": "d8bb3b1d"
    },
    {
      "cell_type": "code",
      "metadata": {
        "id": "effcf9dd",
        "colab": {
          "base_uri": "https://localhost:8080/"
        },
        "outputId": "9bbc37f9-3787-45fe-8984-b6c10eec59dc"
      },
      "source": [
        "print(vectorizer.get_feature_names()[:100])"
      ],
      "id": "effcf9dd",
      "execution_count": 28,
      "outputs": [
        {
          "output_type": "stream",
          "name": "stdout",
          "text": [
            "['000', '01', '10', '100', '11', '12', '13', '14', '15', '16', '17', '180', '1840', '1840s', '19', '1920', '1930s', '1934', '1940s', '1944', '1946', '1948', '1950', '1950s', '1953', '1954', '1959', '1960', '1964', '1965', '1968', '1969', '1970', '1970s', '1971', '1973', '1974', '1977', '1978', '1979', '1980', '1981', '1982', '1983', '1984', '1985', '1989', '1991', '1992', '1993', '1994', '1995', '1996', '1997', '1998', '1999', '19th', '20', '2000', '2002', '2004', '2005', '2006', '2008', '2031', '22', '24', '25', '250', '2nd', '30', '300', '35', '35mm', '36', '3d', '3rd', '40', '44', '46', '4th', '50', '50s', '5th', '60', '65', '70', '70mm', '70s', '73', '74', '750', '80', '80s', '82', '90', '94', '99', '998', 'abandoned']\n"
          ]
        }
      ]
    },
    {
      "cell_type": "code",
      "metadata": {
        "id": "XwZ84nW406-W"
      },
      "source": [
        "# Answer : to improve the features, it would be possible to group some of the numbers(for ex. \n",
        "#          grouping according to century or grouping according to number of digits in the number) "
      ],
      "id": "XwZ84nW406-W",
      "execution_count": 29,
      "outputs": []
    },
    {
      "cell_type": "markdown",
      "metadata": {
        "id": "fdf1f023"
      },
      "source": [
        "### Improving representations\n",
        "\n",
        "Mainly, the arguments of the class ```vectorizer``` will allow us to easily change the way our textual data is represented. Let us try to work on our *Bag-of-words* representations:\n",
        "   \n",
        "#### Do not take into account words that are too frequent:\n",
        "\n",
        "You can use the argument ```max_df=1.0``` to change the amount of words taken into account. \n",
        "\n",
        "#### Try different granularities:\n",
        "\n",
        "Rather than just counting words, we can count sequences of words - limited in size, of course. \n",
        "We call a sequence of $n$ words a $n$-gram: let's try using 2 and 3-grams (bi- and trigrams).\n",
        "We can also try to use character sequences instead of word sequences.\n",
        "\n",
        "We will be interested in the options ```analyze='word'``` and ```ngram_range=(1, 2)``` which we'll change to alter the granularity. \n",
        "\n",
        "**Again: using these ways of getting more features from our text will probably have more impact if we do not have much training data to begin with !**\n",
        "\n",
        "To accelerate experiments, use the ```Pipeline``` tool from scikit-learn. "
      ],
      "id": "fdf1f023"
    },
    {
      "cell_type": "code",
      "metadata": {
        "id": "bb30f4d4"
      },
      "source": [
        "from sklearn.pipeline import Pipeline"
      ],
      "id": "bb30f4d4",
      "execution_count": 30,
      "outputs": []
    },
    {
      "cell_type": "code",
      "metadata": {
        "id": "9341f5d8"
      },
      "source": [
        "pipeline_base = Pipeline([\n",
        "    ('vect', CountVectorizer(max_features=30000, analyzer='word', stop_words=None, max_df = 1.0)),\n",
        "    ('clf', MultinomialNB()),\n",
        "])\n",
        "# Fit and test the pipeline"
      ],
      "id": "9341f5d8",
      "execution_count": 31,
      "outputs": []
    },
    {
      "cell_type": "code",
      "metadata": {
        "id": "K9lqDo9cjfkE",
        "colab": {
          "base_uri": "https://localhost:8080/"
        },
        "outputId": "5a486c50-18c7-4bef-e5b1-d0be1591207d"
      },
      "source": [
        "pipeline_base.fit(train_texts_splt,train_labels_splt)\n",
        "predictions = pipeline_base.predict(val_texts)\n",
        "print(classification_report(val_labels, predictions))"
      ],
      "id": "K9lqDo9cjfkE",
      "execution_count": 32,
      "outputs": [
        {
          "output_type": "stream",
          "name": "stdout",
          "text": [
            "              precision    recall  f1-score   support\n",
            "\n",
            "           0       0.72      0.82      0.77        28\n",
            "           1       0.72      0.59      0.65        22\n",
            "\n",
            "    accuracy                           0.72        50\n",
            "   macro avg       0.72      0.71      0.71        50\n",
            "weighted avg       0.72      0.72      0.72        50\n",
            "\n"
          ]
        }
      ]
    },
    {
      "cell_type": "code",
      "metadata": {
        "id": "Iw-qkkmHsO7r"
      },
      "source": [
        "# bigrams"
      ],
      "id": "Iw-qkkmHsO7r",
      "execution_count": 33,
      "outputs": []
    },
    {
      "cell_type": "code",
      "metadata": {
        "id": "WPbklkuBsRsL"
      },
      "source": [
        "pipeline_base4 = Pipeline([\n",
        "    ('vect', CountVectorizer(max_features=30000, analyzer='word', stop_words=None, ngram_range = (2,2) )),\n",
        "    ('clf', MultinomialNB()),\n",
        "])"
      ],
      "id": "WPbklkuBsRsL",
      "execution_count": 34,
      "outputs": []
    },
    {
      "cell_type": "code",
      "metadata": {
        "id": "VHO1osD2sSsL",
        "colab": {
          "base_uri": "https://localhost:8080/"
        },
        "outputId": "7f00cafa-9e2d-4517-de7c-460b8c8f7780"
      },
      "source": [
        "pipeline_base4.fit(train_texts_splt,train_labels_splt)\n",
        "predictions = pipeline_base4.predict(val_texts)\n",
        "print(classification_report(val_labels, predictions))"
      ],
      "id": "VHO1osD2sSsL",
      "execution_count": 35,
      "outputs": [
        {
          "output_type": "stream",
          "name": "stdout",
          "text": [
            "              precision    recall  f1-score   support\n",
            "\n",
            "           0       0.66      0.82      0.73        28\n",
            "           1       0.67      0.45      0.54        22\n",
            "\n",
            "    accuracy                           0.66        50\n",
            "   macro avg       0.66      0.64      0.64        50\n",
            "weighted avg       0.66      0.66      0.65        50\n",
            "\n"
          ]
        }
      ]
    },
    {
      "cell_type": "code",
      "metadata": {
        "id": "d5ab6231"
      },
      "source": [
        "# ... trigrams"
      ],
      "id": "d5ab6231",
      "execution_count": 36,
      "outputs": []
    },
    {
      "cell_type": "code",
      "metadata": {
        "id": "NAlh-1m7jh_S"
      },
      "source": [
        "pipeline_base2 = Pipeline([\n",
        "    ('vect', CountVectorizer(max_features=30000, analyzer='word', stop_words=None, ngram_range = (3,3) )),\n",
        "    ('clf', MultinomialNB()),\n",
        "])"
      ],
      "id": "NAlh-1m7jh_S",
      "execution_count": 37,
      "outputs": []
    },
    {
      "cell_type": "code",
      "metadata": {
        "id": "6fmsqj4Ijnog",
        "colab": {
          "base_uri": "https://localhost:8080/"
        },
        "outputId": "19604d3f-4cb3-4849-aaea-68a25f099cbe"
      },
      "source": [
        "pipeline_base2.fit(train_texts_splt,train_labels_splt)\n",
        "predictions = pipeline_base2.predict(val_texts)\n",
        "print(classification_report(val_labels, predictions))"
      ],
      "id": "6fmsqj4Ijnog",
      "execution_count": 38,
      "outputs": [
        {
          "output_type": "stream",
          "name": "stdout",
          "text": [
            "              precision    recall  f1-score   support\n",
            "\n",
            "           0       0.67      0.71      0.69        28\n",
            "           1       0.60      0.55      0.57        22\n",
            "\n",
            "    accuracy                           0.64        50\n",
            "   macro avg       0.63      0.63      0.63        50\n",
            "weighted avg       0.64      0.64      0.64        50\n",
            "\n"
          ]
        }
      ]
    },
    {
      "cell_type": "code",
      "metadata": {
        "id": "b2fbaf31"
      },
      "source": [
        "# ... and characters"
      ],
      "id": "b2fbaf31",
      "execution_count": 39,
      "outputs": []
    },
    {
      "cell_type": "code",
      "metadata": {
        "id": "fLwkjPk2jqJF"
      },
      "source": [
        "pipeline_base3 = Pipeline([\n",
        "    ('vect', CountVectorizer(max_features=30000, analyzer='char', stop_words=None, ngram_range = (2,5) )),\n",
        "    ('clf', MultinomialNB()),\n",
        "])"
      ],
      "id": "fLwkjPk2jqJF",
      "execution_count": 40,
      "outputs": []
    },
    {
      "cell_type": "code",
      "metadata": {
        "id": "_PjM5G9tjryc",
        "colab": {
          "base_uri": "https://localhost:8080/"
        },
        "outputId": "b1e704c0-1124-4c91-c6f2-13bc0e243e06"
      },
      "source": [
        "pipeline_base3.fit(train_texts_splt,train_labels_splt)\n",
        "predictions = pipeline_base3.predict(val_texts)\n",
        "print(classification_report(val_labels, predictions))"
      ],
      "id": "_PjM5G9tjryc",
      "execution_count": 41,
      "outputs": [
        {
          "output_type": "stream",
          "name": "stdout",
          "text": [
            "              precision    recall  f1-score   support\n",
            "\n",
            "           0       0.73      0.79      0.76        28\n",
            "           1       0.70      0.64      0.67        22\n",
            "\n",
            "    accuracy                           0.72        50\n",
            "   macro avg       0.72      0.71      0.71        50\n",
            "weighted avg       0.72      0.72      0.72        50\n",
            "\n"
          ]
        }
      ]
    },
    {
      "cell_type": "markdown",
      "metadata": {
        "id": "0639e446"
      },
      "source": [
        "#### Tf-idf:\n",
        "\n",
        "This is the product of the frequency of the term (TF) and its inverse frequency in documents (IDF).\n",
        "This method is usually used to measure the importance of a term $i$ in a document $j$ relative to the rest of the corpus, from a matrix of occurrences $ words \\times documents$. Thus, for a matrix $\\mathbf{T}$ of $|V|$ terms and $D$ documents:\n",
        "$$\\text{TF}(T, w, d) = \\frac{T_{w,d}}{\\sum_{w'=1}^{|V|} T_{w',d}} $$\n",
        "\n",
        "$$\\text{IDF}(T, w) = \\log\\left(\\frac{D}{|\\{d : T_{w,d} > 0\\}|}\\right)$$\n",
        "\n",
        "$$\\text{TF-IDF}(T, w, d) = \\text{TF}(X, w, d) \\cdot \\text{IDF}(T, w)$$\n",
        "\n",
        "It can be adapted to our case by considering that the context of the second word is the document. However, TF-IDF is generally better suited to low-density matrices, since it will penalize terms that appear in a large part of the documents. "
      ],
      "id": "0639e446"
    },
    {
      "cell_type": "code",
      "metadata": {
        "id": "ab489e96"
      },
      "source": [
        "from sklearn.feature_extraction.text import TfidfTransformer"
      ],
      "id": "ab489e96",
      "execution_count": 42,
      "outputs": []
    },
    {
      "cell_type": "code",
      "metadata": {
        "id": "Zg4HpPmFtR80"
      },
      "source": [
        "pipeline_base5 = Pipeline([\n",
        "    ('vect', CountVectorizer(max_features=30000,analyzer='char', stop_words=None )),\n",
        "    ('tfidf',TfidfTransformer()),\n",
        "    ('clf', MultinomialNB()),\n",
        "])\n"
      ],
      "id": "Zg4HpPmFtR80",
      "execution_count": 43,
      "outputs": []
    },
    {
      "cell_type": "code",
      "metadata": {
        "id": "cc6ef971",
        "colab": {
          "base_uri": "https://localhost:8080/"
        },
        "outputId": "78473877-f63d-41ab-b495-0121fc525c27"
      },
      "source": [
        "# Fit and test a pipeline with tf-idf\n",
        "pipeline_base5.fit(train_texts_splt,train_labels_splt)\n",
        "predictions = pipeline_base5.predict(val_texts)\n",
        "print(classification_report(val_labels, predictions))"
      ],
      "id": "cc6ef971",
      "execution_count": 44,
      "outputs": [
        {
          "output_type": "stream",
          "name": "stdout",
          "text": [
            "              precision    recall  f1-score   support\n",
            "\n",
            "           0       0.00      0.00      0.00        28\n",
            "           1       0.44      1.00      0.61        22\n",
            "\n",
            "    accuracy                           0.44        50\n",
            "   macro avg       0.22      0.50      0.31        50\n",
            "weighted avg       0.19      0.44      0.27        50\n",
            "\n"
          ]
        },
        {
          "output_type": "stream",
          "name": "stderr",
          "text": [
            "/usr/local/lib/python3.7/dist-packages/sklearn/metrics/_classification.py:1272: UndefinedMetricWarning: Precision and F-score are ill-defined and being set to 0.0 in labels with no predicted samples. Use `zero_division` parameter to control this behavior.\n",
            "  _warn_prf(average, modifier, msg_start, len(result))\n"
          ]
        }
      ]
    },
    {
      "cell_type": "markdown",
      "metadata": {
        "id": "1296da34"
      },
      "source": [
        "### Pre-processing tools: NLTK\n",
        "\n",
        "We are now going to pre-process our textual data in order to simplify the model's task. **Note that this still will only be useful if we do not have a lot of training data to begin with !**\n",
        "\n",
        "**Important:** Until now, we obtained representations with ```vectorizer``` applied on the full document. The class divided the string into words itself ! Now, we'll need to do the **tokenization** ourselves in order to apply pre-processing to words. The simplest way to do this is to divide the string following blank spaces, with:\n",
        "```text.split()```. If we need something more elaborate, we can use a tokenizer from NLTK, ```word_tokenize```."
      ],
      "id": "1296da34"
    },
    {
      "cell_type": "markdown",
      "metadata": {
        "id": "9da06d56"
      },
      "source": [
        "### Stemming \n",
        "\n",
        "Allows to go back to the root of a word: you can group different words around the same root, which facilitates generalization. Use:\n",
        "```from nltk import SnowballStemmer```"
      ],
      "id": "9da06d56"
    },
    {
      "cell_type": "code",
      "metadata": {
        "id": "40733704"
      },
      "source": [
        "from nltk import SnowballStemmer\n",
        "stemmer = SnowballStemmer(\"english\")"
      ],
      "id": "40733704",
      "execution_count": 45,
      "outputs": []
    },
    {
      "cell_type": "markdown",
      "metadata": {
        "id": "fa6cd3da"
      },
      "source": [
        "**Example:**"
      ],
      "id": "fa6cd3da"
    },
    {
      "cell_type": "code",
      "metadata": {
        "id": "8f283ccb",
        "colab": {
          "base_uri": "https://localhost:8080/"
        },
        "outputId": "cf27d4d8-c6fa-4ef7-9199-f436fc397bbd"
      },
      "source": [
        "words = ['singers', 'cat', 'generalization', 'philosophy', 'psychology', 'philosopher']\n",
        "for word in words:\n",
        "    print('word : %s ; stemmed : %s' %(word, stemmer.stem(word)))#.decode('utf-8'))))"
      ],
      "id": "8f283ccb",
      "execution_count": 46,
      "outputs": [
        {
          "output_type": "stream",
          "name": "stdout",
          "text": [
            "word : singers ; stemmed : singer\n",
            "word : cat ; stemmed : cat\n",
            "word : generalization ; stemmed : general\n",
            "word : philosophy ; stemmed : philosophi\n",
            "word : psychology ; stemmed : psycholog\n",
            "word : philosopher ; stemmed : philosoph\n"
          ]
        }
      ]
    },
    {
      "cell_type": "code",
      "metadata": {
        "id": "V-TRRBlL0sA-",
        "colab": {
          "base_uri": "https://localhost:8080/"
        },
        "outputId": "75fffb02-78e6-4aac-eec1-fcccafad627c"
      },
      "source": [
        "from nltk.tokenize import word_tokenize\n",
        "import nltk\n",
        "nltk.download('punkt')"
      ],
      "id": "V-TRRBlL0sA-",
      "execution_count": 47,
      "outputs": [
        {
          "output_type": "stream",
          "name": "stdout",
          "text": [
            "[nltk_data] Downloading package punkt to /root/nltk_data...\n",
            "[nltk_data]   Package punkt is already up-to-date!\n"
          ]
        },
        {
          "output_type": "execute_result",
          "data": {
            "text/plain": [
              "True"
            ]
          },
          "metadata": {},
          "execution_count": 47
        }
      ]
    },
    {
      "cell_type": "code",
      "metadata": {
        "id": "kby9Zln90TK1",
        "colab": {
          "base_uri": "https://localhost:8080/"
        },
        "outputId": "50290e41-da0c-4159-ece6-64ea8a0ff5c0"
      },
      "source": [
        "len(word_tokenize(train_texts_splt[0]))"
      ],
      "id": "kby9Zln90TK1",
      "execution_count": 48,
      "outputs": [
        {
          "output_type": "execute_result",
          "data": {
            "text/plain": [
              "256"
            ]
          },
          "metadata": {},
          "execution_count": 48
        }
      ]
    },
    {
      "cell_type": "markdown",
      "metadata": {
        "id": "cec4ee08"
      },
      "source": [
        "**Data transformation:**"
      ],
      "id": "cec4ee08"
    },
    {
      "cell_type": "code",
      "metadata": {
        "id": "89275ff9"
      },
      "source": [
        "def stem(X):\n",
        "    X_stem = []\n",
        "    for s in X:\n",
        "        X_tok = word_tokenize(s)\n",
        "        sent = ''\n",
        "        for word in X_tok:\n",
        "            sent = sent + ' '+ stemmer.stem(word)\n",
        "        X_stem.append(sent)\n",
        "    return X_stem"
      ],
      "id": "89275ff9",
      "execution_count": 49,
      "outputs": []
    },
    {
      "cell_type": "code",
      "metadata": {
        "id": "6be8fe7a"
      },
      "source": [
        "# Transform training and validation data and test it with a basic pipeline"
      ],
      "id": "6be8fe7a",
      "execution_count": 50,
      "outputs": []
    },
    {
      "cell_type": "code",
      "metadata": {
        "id": "KVROeoRqKZza"
      },
      "source": [
        "train_texts_splt_st = stem(train_texts_splt)\n",
        "val_texts_st = stem(val_texts) "
      ],
      "id": "KVROeoRqKZza",
      "execution_count": 51,
      "outputs": []
    },
    {
      "cell_type": "code",
      "metadata": {
        "id": "2vLUxK24MwPd",
        "colab": {
          "base_uri": "https://localhost:8080/",
          "height": 187
        },
        "outputId": "16426f7e-f883-4f1e-9386-49664ac71f14"
      },
      "source": [
        "train_texts_splt_st[0]"
      ],
      "id": "2vLUxK24MwPd",
      "execution_count": 52,
      "outputs": [
        {
          "output_type": "execute_result",
          "data": {
            "application/vnd.google.colaboratory.intrinsic+json": {
              "type": "string"
            },
            "text/plain": [
              "\" dure the earli 1980 's , kurt thoma was someth of a hero in the unit state . inevit , men in his posit get offer film role that exist sole to capit on that . i have no idea what thoma was paid to make this film , but i would have to be paid a big heap of money to agre to make a nation fool of myself in a motion pictur . the film is obvious deriv from `` enter the dragon , '' as are most martial art pictur . onli instead of a real martial art , they concoct an absurd new martial art , accur describ by one critic as `` a cross between kung fu and break danc . '' a gymnast ( thoma , of cours ) is hire to rescu some ladi from an impenetr fortress , yet everi room has a prop that is exact what thoma need to kick the assist baddi . of cours , he fight his way to the lead villain , and of cours they have a fancy-d fight , with an end that will surpris onli those who have never seen a marshal art film . there are touch which nostalg type will like , particular the mullet haircut of thoma and mani of the male co-star have . but the onli reason to watch this film is if you have a grudg against kurt thoma , who now wish he had never set foot on the film set .\""
            ]
          },
          "metadata": {},
          "execution_count": 52
        }
      ]
    },
    {
      "cell_type": "code",
      "metadata": {
        "id": "5Gr-gjNXz022"
      },
      "source": [
        "pipeline_base_st = Pipeline([\n",
        "    ('vect', CountVectorizer(max_features=30000, analyzer='word', stop_words=None)),\n",
        "    ('clf', MultinomialNB()),\n",
        "])"
      ],
      "id": "5Gr-gjNXz022",
      "execution_count": 53,
      "outputs": []
    },
    {
      "cell_type": "code",
      "metadata": {
        "id": "3ZetF_57NEZd",
        "colab": {
          "base_uri": "https://localhost:8080/"
        },
        "outputId": "680dc813-7758-49b9-cd9d-297a2cd9a027"
      },
      "source": [
        "pipeline_base_st.fit(train_texts_splt,train_labels_splt)\n",
        "predictions = pipeline_base_st.predict(val_texts)\n",
        "print(classification_report(val_labels, predictions))"
      ],
      "id": "3ZetF_57NEZd",
      "execution_count": 54,
      "outputs": [
        {
          "output_type": "stream",
          "name": "stdout",
          "text": [
            "              precision    recall  f1-score   support\n",
            "\n",
            "           0       0.72      0.82      0.77        28\n",
            "           1       0.72      0.59      0.65        22\n",
            "\n",
            "    accuracy                           0.72        50\n",
            "   macro avg       0.72      0.71      0.71        50\n",
            "weighted avg       0.72      0.72      0.72        50\n",
            "\n"
          ]
        }
      ]
    },
    {
      "cell_type": "code",
      "metadata": {
        "id": "Ue0c9Id8z3M9",
        "colab": {
          "base_uri": "https://localhost:8080/"
        },
        "outputId": "188b0cec-859b-42d8-a1d0-2edf7b3a109c"
      },
      "source": [
        "pipeline_base_st.fit(train_texts_splt_st,train_labels_splt)\n",
        "predictions = pipeline_base_st.predict(val_texts_st)\n",
        "print(classification_report(val_labels, predictions))"
      ],
      "id": "Ue0c9Id8z3M9",
      "execution_count": 55,
      "outputs": [
        {
          "output_type": "stream",
          "name": "stdout",
          "text": [
            "              precision    recall  f1-score   support\n",
            "\n",
            "           0       0.74      0.82      0.78        28\n",
            "           1       0.74      0.64      0.68        22\n",
            "\n",
            "    accuracy                           0.74        50\n",
            "   macro avg       0.74      0.73      0.73        50\n",
            "weighted avg       0.74      0.74      0.74        50\n",
            "\n"
          ]
        }
      ]
    },
    {
      "cell_type": "markdown",
      "metadata": {
        "id": "adc09774"
      },
      "source": [
        "### Part of speech tags\n",
        "\n",
        "To generalize, we can also use the Part of Speech (POS) of the words, which will allow us to filter out information that is potentially not useful to the model. We will retrieve the POS of the words using the functions:\n",
        "```from nltk import pos_tag, word_tokenize```"
      ],
      "id": "adc09774"
    },
    {
      "cell_type": "code",
      "metadata": {
        "id": "b4a83c3b"
      },
      "source": [
        "import nltk\n",
        "from nltk import pos_tag, word_tokenize"
      ],
      "id": "b4a83c3b",
      "execution_count": 56,
      "outputs": []
    },
    {
      "cell_type": "markdown",
      "metadata": {
        "id": "14850d77"
      },
      "source": [
        "**Example:**"
      ],
      "id": "14850d77"
    },
    {
      "cell_type": "code",
      "metadata": {
        "id": "080245ae",
        "colab": {
          "base_uri": "https://localhost:8080/"
        },
        "outputId": "878a883c-93e5-4673-da0a-26caa504c28a"
      },
      "source": [
        "import nltk\n",
        "nltk.download('punkt')\n",
        "nltk.download('averaged_perceptron_tagger')\n",
        "\n",
        "a = pos_tag(word_tokenize(('I am Sam')))\n",
        "print(a)\n",
        "print(str(a[2][1])[:2] == 'NN')"
      ],
      "id": "080245ae",
      "execution_count": 57,
      "outputs": [
        {
          "output_type": "stream",
          "name": "stdout",
          "text": [
            "[nltk_data] Downloading package punkt to /root/nltk_data...\n",
            "[nltk_data]   Package punkt is already up-to-date!\n",
            "[nltk_data] Downloading package averaged_perceptron_tagger to\n",
            "[nltk_data]     /root/nltk_data...\n",
            "[nltk_data]   Package averaged_perceptron_tagger is already up-to-\n",
            "[nltk_data]       date!\n",
            "[('I', 'PRP'), ('am', 'VBP'), ('Sam', 'NNP')]\n",
            "True\n"
          ]
        }
      ]
    },
    {
      "cell_type": "markdown",
      "metadata": {
        "id": "96f0cc51"
      },
      "source": [
        "**Data transformation:** only keep nouns, verbs, adverbs, and adjectives (```['NN', 'VB', 'ADJ', 'RB']```) for our model."
      ],
      "id": "96f0cc51"
    },
    {
      "cell_type": "code",
      "metadata": {
        "id": "104a8e2f"
      },
      "source": [
        "def pos_tag_filter(X, good_tags=['NN', 'VB', 'JJ', 'RB']):\n",
        "    X_pos = []\n",
        "    for s in X:\n",
        "        X_tag = pos_tag(word_tokenize((s)))\n",
        "        sent = ''\n",
        "        for i in range(0,len(X_tag)):\n",
        "            for tag in good_tags:\n",
        "                if( X_tag[i][1][:2] == tag ):\n",
        "                    sent = sent + ' '+ X_tag[i][0]\n",
        "        X_pos.append(sent)\n",
        "    return X_pos"
      ],
      "id": "104a8e2f",
      "execution_count": 58,
      "outputs": []
    },
    {
      "cell_type": "code",
      "metadata": {
        "id": "QuiVePXYTw_d",
        "colab": {
          "base_uri": "https://localhost:8080/"
        },
        "outputId": "ea8dedb2-ba14-4bad-b935-7d58fc3219b2"
      },
      "source": [
        "ms = ['I am his brother', 'Hello world']\n",
        "pos_tag_filter(ms)"
      ],
      "id": "QuiVePXYTw_d",
      "execution_count": 59,
      "outputs": [
        {
          "output_type": "execute_result",
          "data": {
            "text/plain": [
              "[' am brother', ' Hello world']"
            ]
          },
          "metadata": {},
          "execution_count": 59
        }
      ]
    },
    {
      "cell_type": "code",
      "metadata": {
        "id": "T33hq94bNjWl"
      },
      "source": [
        "train_texts_splt_pos = pos_tag_filter(train_texts_splt)\n",
        "val_texts_pos = pos_tag_filter(val_texts) "
      ],
      "id": "T33hq94bNjWl",
      "execution_count": 60,
      "outputs": []
    },
    {
      "cell_type": "code",
      "metadata": {
        "id": "brWHZLwSWhJy",
        "colab": {
          "base_uri": "https://localhost:8080/",
          "height": 187
        },
        "outputId": "98d8f59c-03ec-4ad1-d7f5-377a7fb86b42"
      },
      "source": [
        "train_texts_splt[0]"
      ],
      "id": "brWHZLwSWhJy",
      "execution_count": 61,
      "outputs": [
        {
          "output_type": "execute_result",
          "data": {
            "application/vnd.google.colaboratory.intrinsic+json": {
              "type": "string"
            },
            "text/plain": [
              "'During the early 1980\\'s, Kurt Thomas was something of a hero in the United States. Inevitably, men in his position get offered film roles that exist solely to capitalize on that. I have no idea what Thomas was paid to make this film, but I would have to be paid a big heap of money to agree to make a national fool of myself in a motion picture. The film is obviously derived from \"Enter The Dragon,\" as are most martial arts pictures. Only instead of a real martial art, they concoct an absurd new martial art, accurately described by one critic as \"a cross between Kung Fu and break dancing.\" A gymnast (Thomas, of course) is hired to rescue some lady from an impenetrable fortress, yet every room has a prop that is exactly what Thomas needs to kick the assistant baddies. Of course, he fights his way to the lead villain, and of course they have a fancy-dancy fight, with an ending that will surprise only those who have never seen a marshal arts film. There are touches which nostalgic types will like, particularly the mullet haircuts of Thomas and many of the male co-stars have. But the only reason to watch this film is if you have a grudge against Kurt Thomas, who now wishes he had never set foot on the film set.'"
            ]
          },
          "metadata": {},
          "execution_count": 61
        }
      ]
    },
    {
      "cell_type": "code",
      "metadata": {
        "id": "AlNPcTlMNl-f",
        "colab": {
          "base_uri": "https://localhost:8080/",
          "height": 170
        },
        "outputId": "b9930312-3d5c-4753-c598-068ef4a91411"
      },
      "source": [
        "train_texts_splt_pos[0]"
      ],
      "id": "AlNPcTlMNl-f",
      "execution_count": 62,
      "outputs": [
        {
          "output_type": "execute_result",
          "data": {
            "application/vnd.google.colaboratory.intrinsic+json": {
              "type": "string"
            },
            "text/plain": [
              "' early Kurt Thomas was something hero United States Inevitably men position get offered film roles exist solely capitalize have idea Thomas was paid make film have be paid big heap money agree make national fool myself motion picture film is obviously derived Enter Dragon are most martial arts pictures Only instead real martial art concoct absurd new martial art accurately described critic cross Kung Fu break dancing gymnast Thomas course is hired rescue lady impenetrable fortress yet room has prop is exactly Thomas needs kick assistant baddies course fights way lead villain course have fancy-dancy fight ending surprise only have never seen marshal arts film are touches nostalgic types like particularly mullet haircuts Thomas many male co-stars have only reason watch film is have grudge Kurt Thomas now wishes had never set foot film set'"
            ]
          },
          "metadata": {},
          "execution_count": 62
        }
      ]
    },
    {
      "cell_type": "code",
      "metadata": {
        "id": "d218ec3c"
      },
      "source": [
        "# Transform training and validation data and test it with a basic pipeline"
      ],
      "id": "d218ec3c",
      "execution_count": 63,
      "outputs": []
    },
    {
      "cell_type": "code",
      "metadata": {
        "id": "6TrWTbKANYWk"
      },
      "source": [
        "pipeline_base_st = Pipeline([\n",
        "    ('vect', CountVectorizer(max_features=30000, analyzer='word', stop_words=None)),\n",
        "    ('clf', MultinomialNB()),\n",
        "])"
      ],
      "id": "6TrWTbKANYWk",
      "execution_count": 64,
      "outputs": []
    },
    {
      "cell_type": "code",
      "metadata": {
        "id": "UKMJmfWvYBRl",
        "colab": {
          "base_uri": "https://localhost:8080/"
        },
        "outputId": "cb8558af-a3ab-4854-ff9f-8977127b1058"
      },
      "source": [
        "pipeline_base_st.fit(train_texts_splt,train_labels_splt)\n",
        "predictions = pipeline_base_st.predict(val_texts)\n",
        "print(classification_report(val_labels, predictions))"
      ],
      "id": "UKMJmfWvYBRl",
      "execution_count": 65,
      "outputs": [
        {
          "output_type": "stream",
          "name": "stdout",
          "text": [
            "              precision    recall  f1-score   support\n",
            "\n",
            "           0       0.72      0.82      0.77        28\n",
            "           1       0.72      0.59      0.65        22\n",
            "\n",
            "    accuracy                           0.72        50\n",
            "   macro avg       0.72      0.71      0.71        50\n",
            "weighted avg       0.72      0.72      0.72        50\n",
            "\n"
          ]
        }
      ]
    },
    {
      "cell_type": "code",
      "metadata": {
        "id": "X9Eix6klNabs",
        "colab": {
          "base_uri": "https://localhost:8080/"
        },
        "outputId": "37ab6b87-2a0b-4cae-de30-6d2c36966300"
      },
      "source": [
        "pipeline_base_st.fit(train_texts_splt_pos,train_labels_splt)\n",
        "predictions = pipeline_base_st.predict(val_texts_pos)\n",
        "print(classification_report(val_labels, predictions))"
      ],
      "id": "X9Eix6klNabs",
      "execution_count": 66,
      "outputs": [
        {
          "output_type": "stream",
          "name": "stdout",
          "text": [
            "              precision    recall  f1-score   support\n",
            "\n",
            "           0       0.74      0.82      0.78        28\n",
            "           1       0.74      0.64      0.68        22\n",
            "\n",
            "    accuracy                           0.74        50\n",
            "   macro avg       0.74      0.73      0.73        50\n",
            "weighted avg       0.74      0.74      0.74        50\n",
            "\n"
          ]
        }
      ]
    },
    {
      "cell_type": "markdown",
      "metadata": {
        "id": "ad7734d3"
      },
      "source": [
        "# Dense Representations \n",
        "\n",
        "##  Word Embeddings : Distributed representations via the distributional hypothesis \n",
        "\n",
        "**Goal**: We will try to obtain dense representations (as vectors of real numbers) of words (and possibly sentences). These representations are intended to be distributed: they are non-local representations. We represent an object as a combination of *features*, as opposed to the attribution of a dedicated symbol: see the founding work of Geoffrey Hinton, among others, on the subject: [Distributed Representations](https://web.stanford.edu/~jlmcc/papers/PDP/Chapter3.pdf).\n",
        "\n",
        "The term *distributed* representations is very general, but is what we are looking for. The challenge is therefore to be able to build, automatically, such representations.\n",
        "\n",
        "**Underlying idea**: It is based on the distributional hypothesis: contextual information is sufficient to obtain a viable representation of linguistic objects.\n",
        " - For a large class of cases [...] the meaning of a word is its use in the language.\" Wittgenstein (Philosophical Investigations, 43 - 1953)\n",
        " - You shall know a word by the company it keeps, Firth.\n",
        "\n",
        "Thus, a word can be characterized by the words that accompany it, via co-occurrence counts. Two words with a similar meaning will have a similar contextual distribution and are therefore more likely to appear in similar contexts. This hypothesis can be used as a justification for the application of statistics to semantics (information extraction, semantic analysis). It also allows some form of generalization: we can assume that the information we have about a word will be generalized to words with a similar distribution. \n",
        "\n",
        "**Motivation**: The goal is to obtain distributed representations in order to be able to effectively**:\n",
        "- Directly perform a semantic surface analysis.\n",
        "- Use it as a source of information for other language-related models and applications, especially for sentiment analysis. \n",
        "\n",
        "\n",
        "**Terminology**: Be careful not to confuse the idea of *distributed* and *distributional* representation. The latter generally indicates (for words) that the representation has been obtained strictly from co-occurrence counts, whereas additional information (document labels, part of speech tags, ...) can be used to build distributed representations. \n",
        "The models that allow to build these dense representations, in the form of vectors, are often called *vector spaces models*. These representations are also regularly called *word embeddings*, because the words are embedded in a vector space. In French, we often find the term *word embedding* or *lexical embedding*."
      ],
      "id": "ad7734d3"
    },
    {
      "cell_type": "markdown",
      "metadata": {
        "id": "04a4cf22"
      },
      "source": [
        "## Getting representations: counts of occurrences and co-occurrences\n",
        "\n",
        "Depending on the type of corpus available, different types of distributional information can be obtained. If we have access to a collection of documents, we can thus choose to count the number of occurrences of each word in each document, to obtain a $words \\times documents$ matrix: it is on this principle that **Tf-Idf** is built. We will now look at a more general case: we have a large amount of data in text form, and we want to obtain representations of words in the form of vectors of reduced size, without the need to divide them into documents or categories. \n",
        "\n",
        "Suppose we have a corpus containing $T$ different words. We will construct a $\\mathbf{M}$ matrix of size $T \\times T$ which will contain the number of co-occurrences between words. There will be different factors to consider when constructing this matrix: \n",
        "\n",
        "- How do you define the 'context' of a word - context which will tell you what terms co-occur with that word?\n",
        "\n",
        "We can choose to use different scales: the document, the sentence, the nominal group, or simply a window of $k$ words, depending on the information we want to capture.\n",
        "\n",
        "\n",
        "- How do we quantify the importance of the counts? \n",
        "\n",
        "$\\rightarrow$ For example, we can give a decreasing weight to a co-occurrence according to the distance between the two words concerned ($\\frac{1}{d+1}$ for a separation by $d$ words).\n",
        "\n",
        "\n",
        "- Should we keep all the words that appear in the corpus? \n",
        "\n",
        "$\\rightarrow$ Usually not. We will see that for large corpora, the number $T$ of different words is huge. Second, even if the number of words is reasonable, we will have very little distributional information on the rarest words, and the representation obtained will be of poor quality. We will have to ask ourselves how to filter these words, and how to treat the words we choose not to represent.  "
      ],
      "id": "04a4cf22"
    },
    {
      "cell_type": "markdown",
      "metadata": {
        "id": "2c47f45c"
      },
      "source": [
        "#### Example:\n",
        "\n",
        "Let's look at the following text:\n",
        "\n",
        "*I walked down down the boulevard. I walked down the avenue. I ran down the boulevard. I walk down the city. I walk down the the avenue.*\n",
        "\n",
        "We choose to define the context of a word as the sentence to which it belongs, and to not use any weighting.\n",
        "We obtain the following matrix: \n",
        "\n",
        "|     *         | I | the | down | walked | boulevard | avenue | walk | ran | city |\n",
        "|---------------|---|-----|------|--------|-----------|--------|------|-----|------|\n",
        "| I             | 0 |      6 |    6 |   2 |         2 |      2 |   2 |    1 |    1 |\n",
        "| the           | 6 |      2 |    7 |   2 |         2 |      3 |   3 |    1 |    1 |\n",
        "| down          | 6 |      7 |    2 |   3 |         3 |      2 |   2 |    1 |    1 |\n",
        "| walked        | 2 |      2 |    3 |   0 |         1 |      1 |   0 |    0 |    0 |\n",
        "| boulevard     | 2 |      2 |    3 |   1 |         0 |      0 |   0 |    1 |    0 |\n",
        "| avenue        | 2 |      3 |    2 |   1 |         0 |      0 |   1 |    0 |    0 |\n",
        "| ran           | 2 |      3 |    2 |   0 |         0 |      1 |   0 |    0 |    1 |\n",
        "| walk          | 1 |      1 |    1 |   0 |         1 |      0 |   0 |    0 |    0 |\n",
        "| city          | 1 |      1 |    1 |   0 |         0 |      0 |   1 |    0 |    1 |"
      ],
      "id": "2c47f45c"
    },
    {
      "cell_type": "markdown",
      "metadata": {
        "id": "5d8ad3e5"
      },
      "source": [
        "## Modifying the representations:\n",
        "\n",
        "We may want to alter the representations to obtain better features - depending on what use we will have for them.\n",
        "\n",
        "**Normalization**: Very easy: we want to cancel the influence of the magnitude of the counts on the representation.\n",
        "\n",
        "$$\\mathbf{m_{normalized}} = \\left[ \n",
        "   \\frac{m_{1}}{\\sum_{i=1}^{n}m_{i}}, \n",
        "   \\frac{m_{2}}{\\sum_{i=1}^{n}m_{i}}, \n",
        "   \\ldots\n",
        "   \\frac{m_{n}}{\\sum_{i=1}^{n}m_{i}}, \n",
        "\\right]$$\n",
        " \n",
        "**Pointwise Mutual Information**: The aim is to assess the extent to which the co-occurrence of the two terms is *unexpected*. This measure is the ratio of the joint probability of the two words and the product of their individual probabilities:\n",
        "$$\n",
        "\\text{PMI}(x,y) = \\log \\left( \\frac{P(x,y)}{P(x)P(y)} \\right)\n",
        "$$\n",
        "The joint probability of the two words corresponds to the number of times they are observed together, divided by the total number of co-occurrences in the corpus: \n",
        "$$ P(\\mathbf{M},w_{1},w_{2}) = \\frac{M_{w_{1},w_{2}}}{\\sum_{i=1}^{n}\\sum_{j=1}^{n} M_{i,j}} $$\n",
        "The individual probability of a word simply corresponds to its frequency, which can be calculated by counting all co-occurrences where that word appears:\n",
        "$$ P(\\mathbf{M},w) = \\frac{\\sum_{j=1}^{m} M_{w,j}}{\\sum_{i=1}^{n}\\sum_{j=1}^{n} M_{i,j}} $$\n",
        "Hence,\n",
        "$$ \n",
        "\\text{PMI}(\\mathbf{M},w_{1},w_{2}) = \\log  \\frac{M_{w_{1},w_{2}} \\times \\left( \\sum_{i=1}^{n}\\sum_{j=1}^{n} M_{i,j} \\right)}{\\left( \\sum_{j=1}^{n} M_{w_{1},j} \\right) \\times \\left( \\sum_{i=1}^{n}M_{i,w_{2}} \\right)} \n",
        "$$\n",
        "We thus calculate the discrepancy between the observation we have made in our corpus and the frequency of appearance of these terms if we consider them independent - i.e. we assume that their co-occurrence is a coincidence.\n",
        "\n",
        "The main problem with this measure is that it is not adapted to the case where no co-occurrence is observed. Since the PMI is supposed to return a positive quantity if more co-occurrences are observed than expected, and a negative quantity if fewer co-occurrences are observed, we cannot choose to replace $\\log(0)$ by $0$. A commonly used solution is to use the **Positive PMI**, which sets all negative values to $0$.\n",
        " \n",
        " $$\\text{PPMI}(\\mathbf{M},w_{1},w_{2}) = \n",
        " \\begin{cases}\n",
        " \\text{PMI}(\\mathbf{M},w_{1},w_{2}) & \\textrm{if } \\text{PMI}(\\mathbf{M},w_{1},w_{2}) > 0 \\\\\n",
        " 0 & \\textrm{otherwise}\n",
        " \\end{cases}$$"
      ],
      "id": "5d8ad3e5"
    },
    {
      "cell_type": "markdown",
      "metadata": {
        "id": "0e6948f8"
      },
      "source": [
        "### Co-occurences matrix : reducing the dimension\n",
        "\n",
        "#### Motivation\n",
        "\n",
        "The aim is not only to reduce the size of the data (thus, we will deal with vectors of reduced dimensions, rather than working with vectors of the size of the vocabulary) but also to highlight higher level relationships between words: by reducing their representations to the *most important* dimensions of the data, we *generalize* certain properties between words.\n",
        "\n",
        "#### Dimension reduction via SVD \n",
        "\n",
        "A matrix is a linear transformation: applying an SVD to it means decomposing our linear transformation into a product of linear transformations of different types. In fact, we will change the basis of our vector, and replace our data in a space where each of the coordinates are unchanged by the transformation carried out. Thus, we decompose the matrix $\\mathbf{M}$ into three matrices:\n",
        "\n",
        "$$ \\mathbf{M} = \\mathbf{U} \\mathbf{\\lambda} \\mathbf{V}^{\\text{T}} $$\n",
        "\n",
        "Matrices $\\mathbf{U}$, $\\mathbf{\\lambda}$, et $\\mathbf{V}$ have the following properties:\n",
        "- $\\mathbf{U}$ and $\\mathbf{V}$ are orthogonal matrices ($\\mathbf{U}^{\\text{T}} = \\mathbf{U}^{-1}$ and $\\mathbf{V}^{\\text{T}} = \\mathbf{V}^{-1}$). They contain the eigen vectors to the right and to the left of $\\mathbf{M}$.\n",
        "- $\\mathbf{\\lambda}$ is a diagonal matrix: careful, it's not necessarily square. Values on the diagonal are the eigenvalues of $\\mathbf{M}$.\n",
        "\n",
        "Thus, the *most important* dimensions correspond to the largest eigenvalues. Reducing our data to $k$ dimensions corresponds to keeping only the vectors corresponding to the first $k$ eigenvalues - and this is equivalent to taking the first $k$ vectors of the $U$ matrix. \n",
        "\n",
        "Note: When we apply this method to the matrix of $\\mathbf{M}$ counts of dimension $T \\times D$, where $\\mathbf{M}_{t,d}$ contains the number of occurrences of the word $t$ in the document $d$, we obtain the method called **Latent Semantic Analysis**, for the detection of latent (semantic) components allowing the grouping of documents.  "
      ],
      "id": "0e6948f8"
    },
    {
      "cell_type": "markdown",
      "metadata": {
        "id": "0c009be5"
      },
      "source": [
        "### In practice: get a Vocabulary.\n",
        "\n",
        "To begin, we will implement separately a function returning the vocabulary. Here we will have to be able to control its size, either by indicating a maximum number of words, or a minimum number of occurrences to take the words into account. We add, at the end, an \"unknown\" word that will replace all the words that do not appear in our \"limited\" vocabulary. \n",
        "\n",
        "Reminder: use tokenization to obtain words from a document !"
      ],
      "id": "0c009be5"
    },
    {
      "cell_type": "code",
      "metadata": {
        "id": "BQ3r6AHlBEWW"
      },
      "source": [
        "import copy"
      ],
      "id": "BQ3r6AHlBEWW",
      "execution_count": 67,
      "outputs": []
    },
    {
      "cell_type": "code",
      "metadata": {
        "id": "94683836"
      },
      "source": [
        "def vocabulary(corpus, count_threshold=1, voc_threshold=0):\n",
        "    \n",
        "    \"\"\"    \n",
        "    Function using word counts to build a vocabulary - can be improved with a second parameter for \n",
        "    setting a frequency threshold\n",
        "    Params:\n",
        "        corpus (list of list of strings): corpus of sentences\n",
        "        count_threshold (int): number of occurences necessary for a word to be included in the vocabulary\n",
        "        voc_threshold (int): maximum size of the vocabulary \n",
        "    Returns:\n",
        "        vocabulary (dictionary): keys: list of distinct words across the corpus\n",
        "                                 values: indexes corresponding to each word sorted by frequency        \n",
        "    \"\"\"\n",
        "    word_counts = {}\n",
        "    for sentence in corpus:\n",
        "        nsent = word_tokenize(sentence)\n",
        "        for word in nsent:\n",
        "            if word in word_counts:\n",
        "                word_counts[word] =  word_counts[word] + 1\n",
        "            else:\n",
        "                 word_counts[word] = 1\n",
        "    word_counts = dict(sorted(word_counts.items(), key=lambda item: item[1],reverse = True)) \n",
        "    #print(word_counts)\n",
        "    \n",
        "\n",
        "    filtered_word_counts = copy.deepcopy(word_counts) \n",
        "    if(voc_threshold != 0):\n",
        "        for key in list(filtered_word_counts)[voc_threshold:]:\n",
        "            del filtered_word_counts[key]\n",
        "    #print(word_counts)   \n",
        "    #print(list(filtered_word_counts))\n",
        "\n",
        "    filtered_word_counts2 = {}\n",
        "    for key,value in filtered_word_counts.items():\n",
        "        if(value < count_threshold):\n",
        "            break\n",
        "        filtered_word_counts2[key] = value\n",
        "    \n",
        "    vocabulary = {}\n",
        "    vocabulary_word_counts = {}\n",
        "\n",
        "    vocabulary_word_counts = copy.deepcopy(filtered_word_counts2)\n",
        "    vocabulary_word_counts['UNK'] = 0\n",
        "    i = 0\n",
        "    for key,value in vocabulary_word_counts.items():\n",
        "        vocabulary[key] = i\n",
        "        i = i + 1\n",
        "    return vocabulary, vocabulary_word_counts"
      ],
      "id": "94683836",
      "execution_count": 68,
      "outputs": []
    },
    {
      "cell_type": "code",
      "metadata": {
        "id": "bb40b33c",
        "colab": {
          "base_uri": "https://localhost:8080/"
        },
        "outputId": "02388ec3-16ca-49a1-e63a-114f01e997e3"
      },
      "source": [
        "# Example for testing:\n",
        "\n",
        "corpus = ['I walked down down the boulevard',\n",
        "          'I walked down the avenue',\n",
        "          'I ran down the boulevard',\n",
        "          'I walk down the city',\n",
        "          'I walk down the the avenue']\n",
        "\n",
        "voc, counts = vocabulary(corpus, count_threshold = 3)\n",
        "print(voc)\n",
        "print(counts)\n",
        "\n",
        "# We expect something like this:\n",
        "#  {'down': 0, 'the': 1, 'i': 2, 'UNK': 3}\n",
        "#  {'down': 6, 'the': 6, 'i': 5, 'UNK': 0}\n",
        "\n",
        "voc, counts = vocabulary(corpus)\n",
        "print(voc)\n",
        "print(counts)\n",
        "\n",
        "# We expect something like this:\n",
        "#  {'down': 0, 'the': 1, 'i': 2, 'walked': 3, 'boulevard': 4, 'avenue': 5, 'walk': 6, 'ran': 7, 'city': 8, 'UNK': 9}\n",
        "#  {'down': 6, 'the': 6, 'i': 5, 'walked': 2, 'boulevard': 2, 'avenue': 2, 'walk': 2, 'ran': 1, 'city': 1, 'UNK': 0}"
      ],
      "id": "bb40b33c",
      "execution_count": 69,
      "outputs": [
        {
          "output_type": "stream",
          "name": "stdout",
          "text": [
            "{'down': 0, 'the': 1, 'I': 2, 'UNK': 3}\n",
            "{'down': 6, 'the': 6, 'I': 5, 'UNK': 0}\n",
            "{'down': 0, 'the': 1, 'I': 2, 'walked': 3, 'boulevard': 4, 'avenue': 5, 'walk': 6, 'ran': 7, 'city': 8, 'UNK': 9}\n",
            "{'down': 6, 'the': 6, 'I': 5, 'walked': 2, 'boulevard': 2, 'avenue': 2, 'walk': 2, 'ran': 1, 'city': 1, 'UNK': 0}\n"
          ]
        }
      ]
    },
    {
      "cell_type": "markdown",
      "metadata": {
        "id": "0862ebe4"
      },
      "source": [
        "#### Application to a real data set\n",
        "\n",
        "We're going to work with the **imdb** data.\n",
        "\n",
        "#### Quick study of the data\n",
        "\n",
        "We would like to get an idea of what's in these film reviews before we proceed. So we'll get the vocabulary (in full) and represent the frequencies of the words, in order (be careful, you'll have to use a logarithmic scale): we should find back Zipf's law. This will give us an idea of the size of the vocabulary we will be able to choose: it's a matter of making a compromise between the necessary resources (size of the objects in memory) and the amount of information we can get from them (rare words can bring a lot of information, but it's difficult to learn good representations of them, because they are rare!).  "
      ],
      "id": "0862ebe4"
    },
    {
      "cell_type": "code",
      "metadata": {
        "id": "raQHMP8XJ-xz"
      },
      "source": [
        "import numpy as np"
      ],
      "id": "raQHMP8XJ-xz",
      "execution_count": 70,
      "outputs": []
    },
    {
      "cell_type": "code",
      "metadata": {
        "id": "583e6f1d",
        "colab": {
          "base_uri": "https://localhost:8080/",
          "height": 273
        },
        "outputId": "a677780b-4b4c-47f8-b4a2-8044045f98bc"
      },
      "source": [
        "# We would like to display the curve of word frequencies given their rank (index) in the vocabulary\n",
        "vocab, word_counts = vocabulary(train_texts)\n",
        "x = list(vocab.values())[:-1]\n",
        "y = list(word_counts.values())[:-1]\n",
        "\n",
        "# We can for example use the function plt.scatter()\n",
        "plt.figure(figsize=(20,5))\n",
        "plt.title('Word counts versus rank')\n",
        "\n",
        "\n",
        "plt.scatter(x,y)\n",
        "plt.yscale('log')\n",
        "plt.show()\n",
        "\n",
        "# We would like to know how much of the data is represented by the 'k' most frequent words\n",
        "print('Vocabulary size: %i' % len(vocab))\n",
        "k = 5000\n",
        "\n",
        "sum_k = np.sum(y[:k])\n",
        "all_sum = np.sum(y)\n",
        "print('Part of the corpus by taking the \"k\" most frequent words is ', sum_k / all_sum)\n"
      ],
      "id": "583e6f1d",
      "execution_count": 71,
      "outputs": [
        {
          "output_type": "display_data",
          "data": {
            "image/png": "[encoded data removed]",
            "text/plain": [
              "<Figure size 1440x360 with 1 Axes>"
            ]
          },
          "metadata": {
            "needs_background": "light"
          }
        },
        {
          "output_type": "stream",
          "name": "stdout",
          "text": [
            "Vocabulary size: 134958\n",
            "Part of the corpus by taking the \"k\" most frequent words is  0.8952811381001319\n"
          ]
        }
      ]
    },
    {
      "cell_type": "markdown",
      "metadata": {
        "id": "34a6d3e3"
      },
      "source": [
        "**Result of the analysis**: we can be satisfied with a vocabulary of 10,000 or even 5,000 words - this is important, because it will determine the size of the objects we will manipulate. "
      ],
      "id": "34a6d3e3"
    },
    {
      "cell_type": "code",
      "metadata": {
        "id": "f51dfe6f"
      },
      "source": [
        "vocab_5k, word_counts_5k = vocabulary(train_texts, 0, 5000)"
      ],
      "id": "f51dfe6f",
      "execution_count": 72,
      "outputs": []
    },
    {
      "cell_type": "code",
      "metadata": {
        "id": "33dd36cd",
        "colab": {
          "base_uri": "https://localhost:8080/"
        },
        "outputId": "102775bd-a613-4ae0-ad99-ce379d64aec4"
      },
      "source": [
        "print(vocab_5k['cinema'])"
      ],
      "id": "33dd36cd",
      "execution_count": 73,
      "outputs": [
        {
          "output_type": "stream",
          "name": "stdout",
          "text": [
            "495\n"
          ]
        }
      ]
    },
    {
      "cell_type": "markdown",
      "metadata": {
        "id": "e48604ed"
      },
      "source": [
        "We could here compute the co-occurence matrix, and then reduce its dimension. Instead, we will use two of the most popular methods used to produce dense word representations (word embeddings). These methods are very different in practice, but are conceptually close, and resemble the procedure described earlier: reducing the dimension of co-occurences metrics.\n",
        "\n",
        "## Getting a representation: commonly used algorithms\n",
        "\n",
        "The idea here is to define a set of representations ${w_{i}}_{i=1}^{V}$, of predefined dimension $d$ (here, we will work with $d = 300$), for all the words $i$ of the vocabulary $V$ - then **train** these representations to match what we want. "
      ],
      "id": "e48604ed"
    },
    {
      "cell_type": "markdown",
      "metadata": {
        "id": "5c5844f5"
      },
      "source": [
        "### Word2Vec\n",
        "\n",
        "\n",
        "####  The skip-gram model\n",
        "\n",
        "The basic skip-gram model estimates the probabilities of a pair of words $(i, j)$ to appear together in data:\n",
        "\n",
        "$$P(j \\mid i) = \\frac{\\exp(w_{i} c_{j})}{\\sum_{j'\\in V}\\exp(w_{i} c_{j'})}$$\n",
        "\n",
        "\n",
        "where $w_{i}$ is the lign vector (of the word) $i$ and $c_{j}$ is the column vector (of a context word) $j$. The objective is to minimize the following quantity:\n",
        "\n",
        "\n",
        "$$ -\\sum_{i=1}^{m} \\sum_{k=1}^{|V|} \\textbf{1}\\{o_{i}=k\\} \\log \\frac{\\exp(w_{i} c_{k})}{\\sum_{j=1}^{|V|} \\exp(w_{i} c_{j})}$$\n",
        "\n",
        "\n",
        "where $V$ is the vocabulary.\n",
        "The inputs $w_{i}$ are the representations of the words, which are updated during training, and the output is an *one-hot* $o$ vector, which contains only one $1$ and $0$. For example, if `good` is the 47th word in the vocabulary, the output $o$ for an example or `good` is the word to predict will consist of $0$s everywhere except $1$ in the 47th position of the vector. `good` will be the word to predict when the input $w$ is a word in its context.\n",
        "We therefore obtain this output with standard softmax - we add a bias term $b$ .\n",
        "\n",
        "\n",
        "$$ o = \\textbf{softmax}(w_{a}C + b)$$\n",
        "\n",
        "\n",
        "If we use the set of representations for the whole vocabulary (the matrix $W$) as input, we get:\n",
        "\n",
        "\n",
        "$$ O = \\textbf{softmax}(WC + b)$$\n",
        "\n",
        "\n",
        "and so we come back to the central idea of all our methods: we seek to obtain word representations from co-occurrence counts. Here, we train the parameters contained in $W$ and $C$, two matrices representing the words in reduced dimension (300) so that their scalar product is as close as possible to the co-occurrences observed in the data, using a maximum likelihood objective.\n",
        "\n",
        "#### Skip-gram with negative sampling\n",
        "\n",
        "The training of the skip-gram model implies to calculate a sum on the whole vocabulary, because of the **softmax**. As soon as the size of the vocabulary increases, it becomes impossible to compute. In order to make the calculations faster, we change the objective and use the method of *negative sampling* (or, very close to it, the *noise contrastive estimation*).\n",
        "\n",
        "\n",
        "If we note $\\mathcal{D}$ the data set and we note $\\mathcal{D}'$ a set of pairs of words that are **not** in the data (and that in practice, we draw randomly), the objective is:\n",
        "\n",
        "\n",
        "$$\\sum_{i, j \\in \\mathcal{D}}-\\log\\sigma(w_{i}c_{j}) + \\sum_{i, j \\in \\mathcal{D}'}\\log\\sigma(w_{i}c_{j})$$\n",
        "\n",
        "\n",
        "where $\\sigma$ is the sigmoid activation function $\\frac{1}{1 + \\exp(-x)}$.\n",
        "A common practice is to generate pairs from $\\mathcal{D}'$ in proportion to the frequencies of the words in the training data (the so-called unigram distribution):\n",
        "\n",
        "\n",
        "$$P(w) = \\frac{\\textbf{T}(w)^{0.75}}{\\sum_{w'\\in V} \\textbf{T}(w')}$$\n",
        "\n",
        "\n",
        "Although different, this new objective function is a sufficient approximation of the previous one, and is based on the same principle. Much research has been done on this objective: for example, [Levy and Golberg 2014](http://papers.nips.cc/paper/5477-neural-word-embedding-as-implicit-matrix-factorization) shows that the objective calculates the PMI matrix shifted by a constant value. One can also see [Cotterell et al. 2017](https://aclanthology.coli.uni-saarland.de/papers/E17-2028/e17-2028) for an interpretation of the algorithm as a variant of PCA."
      ],
      "id": "5c5844f5"
    },
    {
      "cell_type": "markdown",
      "metadata": {
        "id": "945f33cc"
      },
      "source": [
        "We will use the ```gensim``` library for its implementation of word2vec in python. We'll have to make a specific use of it, since we want to keep the same vocabulary as before: we'll first create the class, then get the vocabulary we generated above. \n",
        "To avoid having to put all the data in memory all at once, we define a generator, which will take all the input data and pre-process it, and return to the ```Word2Vec``` class sentence by sentence. "
      ],
      "id": "945f33cc"
    },
    {
      "cell_type": "code",
      "metadata": {
        "id": "LEuFO9Iwaijl",
        "colab": {
          "base_uri": "https://localhost:8080/"
        },
        "outputId": "98b2bc7f-7047-4cbd-f994-03d7514647d5"
      },
      "source": [
        "pip install --upgrade gensim"
      ],
      "id": "LEuFO9Iwaijl",
      "execution_count": 74,
      "outputs": [
        {
          "output_type": "stream",
          "name": "stdout",
          "text": [
            "Requirement already satisfied: gensim in /usr/local/lib/python3.7/dist-packages (4.1.2)\n",
            "Requirement already satisfied: smart-open>=1.8.1 in /usr/local/lib/python3.7/dist-packages (from gensim) (5.2.1)\n",
            "Requirement already satisfied: scipy>=0.18.1 in /usr/local/lib/python3.7/dist-packages (from gensim) (1.4.1)\n",
            "Requirement already satisfied: numpy>=1.17.0 in /usr/local/lib/python3.7/dist-packages (from gensim) (1.19.5)\n"
          ]
        }
      ]
    },
    {
      "cell_type": "code",
      "metadata": {
        "id": "66708c20"
      },
      "source": [
        "from gensim.models import Word2Vec\n",
        "\n",
        "model = Word2Vec(vector_size=300,\n",
        "                 window=5,\n",
        "                 null_word=len(word_counts_5k))\n",
        "model.build_vocab_from_freq(word_counts_5k)"
      ],
      "id": "66708c20",
      "execution_count": 75,
      "outputs": []
    },
    {
      "cell_type": "code",
      "metadata": {
        "id": "d4fe8b7c"
      },
      "source": [
        "preprocessed_corpus = [word_tokenize(train_texts[i]) for i in range(len(train_texts))]"
      ],
      "id": "d4fe8b7c",
      "execution_count": 76,
      "outputs": []
    },
    {
      "cell_type": "code",
      "metadata": {
        "id": "d2164874",
        "colab": {
          "base_uri": "https://localhost:8080/"
        },
        "outputId": "412f6545-469b-4233-8398-e0606583c00b"
      },
      "source": [
        "model.train(preprocessed_corpus, total_examples=len(train_texts), epochs=20, report_delay=1)"
      ],
      "id": "d2164874",
      "execution_count": 77,
      "outputs": [
        {
          "output_type": "execute_result",
          "data": {
            "text/plain": [
              "(85127505, 141130640)"
            ]
          },
          "metadata": {},
          "execution_count": 77
        }
      ]
    },
    {
      "cell_type": "code",
      "metadata": {
        "id": "329a0e00"
      },
      "source": [
        "W2VEmbeddings = model.wv.vectors"
      ],
      "id": "329a0e00",
      "execution_count": 78,
      "outputs": []
    },
    {
      "cell_type": "markdown",
      "metadata": {
        "id": "c3d0304e"
      },
      "source": [
        "### Glove\n",
        "\n",
        "The objective defined by Glove ([Pennington et al. (2014)](http://www.aclweb.org/anthology/D/D14/D14-1162.pdf)) is to learn from the vectors $w_{i}$ and $w_{k}$ so that their scalar product corresponds to the logarithm of their **Pointwise Mutual Information**: \n",
        "\n",
        "\n",
        "$$ w_{i}^\\top w_{k} = (PMI(w_{i}, w_{k}))$$\n",
        "\n",
        "\n",
        "In the article, this objective is carefully justified by a reasoning about the operations one wants to perform with these vectors and the properties they should have - in particular, symmetry between rows and columns (see the article for more details).  \n",
        "The final goal obtained is the following, where $M$ is the co-occurrence matrix:\n",
        "\n",
        "\n",
        "$$\\sum_{i, j=1}^{|V|} f\\left(M_{ij}\\right)\n",
        "  \\left(w_i^\\top w_j + b_i + b_j - \\log M_{ij}\\right)^2$$\n",
        "  \n",
        " \n",
        "Here, $f$ is a *scaling* function that reduces the importance of the most frequent co-occurrence counts: \n",
        "\n",
        "\n",
        "$$f(x) \n",
        "\\begin{cases}\n",
        "(x/x_{\\max})^{\\alpha} & \\textrm{if } x < x_{\\max} \\\\\n",
        "1 & \\textrm{otherwise}\n",
        "\\end{cases}$$\n",
        "\n",
        "\n",
        "Usually, we choose $\\alpha=0.75$ and $x_{\\max} = 100$, although these parameters may need to be changed depending on the data."
      ],
      "id": "c3d0304e"
    },
    {
      "cell_type": "markdown",
      "metadata": {
        "id": "1b5d9483"
      },
      "source": [
        "The following code uses the gensim API to retrieve pre-trained representations (It is normal that the loading is long)."
      ],
      "id": "1b5d9483"
    },
    {
      "cell_type": "code",
      "metadata": {
        "id": "cd6227a3"
      },
      "source": [
        "import gensim.downloader as api\n",
        "loaded_glove_model = api.load(\"glove-wiki-gigaword-300\")"
      ],
      "id": "cd6227a3",
      "execution_count": 79,
      "outputs": []
    },
    {
      "cell_type": "markdown",
      "metadata": {
        "id": "f6cd3015"
      },
      "source": [
        "We can extract the embedding matrix this way, and check its size:"
      ],
      "id": "f6cd3015"
    },
    {
      "cell_type": "code",
      "metadata": {
        "id": "8ac8626e",
        "colab": {
          "base_uri": "https://localhost:8080/"
        },
        "outputId": "fe30288f-c2ca-4833-c164-1926042dadb5"
      },
      "source": [
        "loaded_glove_embeddings = loaded_glove_model.vectors\n",
        "print(loaded_glove_embeddings.shape)"
      ],
      "id": "8ac8626e",
      "execution_count": 80,
      "outputs": [
        {
          "output_type": "stream",
          "name": "stdout",
          "text": [
            "(400000, 300)\n"
          ]
        }
      ]
    },
    {
      "cell_type": "markdown",
      "metadata": {
        "id": "2060f888"
      },
      "source": [
        "We can see that there are $400,000$ words represented, and that the embeddings are of size $300$. We define a function that returns, from the loaded model, the vocabulary and the embedding matrix according to the structures we used before. We add, here again, an unknown word \"UNK\" in case there are words in our data that are not part of the $400,000$ words represented here. "
      ],
      "id": "2060f888"
    },
    {
      "cell_type": "code",
      "metadata": {
        "id": "805f33f1"
      },
      "source": [
        "def get_glove_voc_and_embeddings(glove_model):\n",
        "    voc = {word : index for word, index in enumerate(glove_model.index_to_key)}\n",
        "    voc['UNK'] = len(voc)\n",
        "    embeddings = glove_model.vectors\n",
        "    return voc, embeddings"
      ],
      "id": "805f33f1",
      "execution_count": 81,
      "outputs": []
    },
    {
      "cell_type": "code",
      "metadata": {
        "id": "a777ab59"
      },
      "source": [
        "loaded_glove_voc, loaded_glove_embeddings = get_glove_voc_and_embeddings(loaded_glove_model)"
      ],
      "id": "a777ab59",
      "execution_count": 82,
      "outputs": []
    },
    {
      "cell_type": "markdown",
      "metadata": {
        "id": "62897704"
      },
      "source": [
        "In order to compare the representations loaded here and the ones produced with word2vec, the same vocabulary should be used. For this purpose, I reuse the following code to create a $5000$ word vocabulary from the data, and I add at the end a function that returns the matrix of representations loaded with Glove for these $5000$ words only, in the right order. "
      ],
      "id": "62897704"
    },
    {
      "cell_type": "code",
      "metadata": {
        "id": "e4b16bd6"
      },
      "source": [
        "def get_glove_adapted_embeddings(glove_model, input_voc):\n",
        "    keys = {i: glove_model.key_to_index.get(w, None) for w, i in input_voc.items()}\n",
        "    index_dict = {i: key for i, key in keys.items() if key is not None}\n",
        "    embeddings = np.zeros((len(input_voc),glove_model.vectors.shape[1]))\n",
        "    for i, ind in index_dict.items():\n",
        "        embeddings[i] = glove_model.vectors[ind]\n",
        "    return embeddings"
      ],
      "id": "e4b16bd6",
      "execution_count": 83,
      "outputs": []
    },
    {
      "cell_type": "code",
      "metadata": {
        "id": "95a23fbc"
      },
      "source": [
        "GloveEmbeddings = get_glove_adapted_embeddings(loaded_glove_model, vocab_5k)"
      ],
      "id": "95a23fbc",
      "execution_count": 84,
      "outputs": []
    },
    {
      "cell_type": "markdown",
      "metadata": {
        "id": "4063073d"
      },
      "source": [
        "This function takes as input the model loaded using the Gensim API, as well as a vocabulary we created ourselves, and returns the embedding matrix from the loaded model, for the words in our vocabulary and in the right order.\n",
        "Note: unknown words are represented by a vector of zeros:"
      ],
      "id": "4063073d"
    },
    {
      "cell_type": "code",
      "metadata": {
        "id": "cb4e9ad2",
        "colab": {
          "base_uri": "https://localhost:8080/"
        },
        "outputId": "32da73a9-ff98-473a-f99f-6b4d8680b35f"
      },
      "source": [
        "print(GloveEmbeddings.shape)\n",
        "GloveEmbeddings[vocab_5k['UNK']]"
      ],
      "id": "cb4e9ad2",
      "execution_count": 85,
      "outputs": [
        {
          "output_type": "stream",
          "name": "stdout",
          "text": [
            "(5001, 300)\n"
          ]
        },
        {
          "output_type": "execute_result",
          "data": {
            "text/plain": [
              "array([0., 0., 0., 0., 0., 0., 0., 0., 0., 0., 0., 0., 0., 0., 0., 0., 0.,\n",
              "       0., 0., 0., 0., 0., 0., 0., 0., 0., 0., 0., 0., 0., 0., 0., 0., 0.,\n",
              "       0., 0., 0., 0., 0., 0., 0., 0., 0., 0., 0., 0., 0., 0., 0., 0., 0.,\n",
              "       0., 0., 0., 0., 0., 0., 0., 0., 0., 0., 0., 0., 0., 0., 0., 0., 0.,\n",
              "       0., 0., 0., 0., 0., 0., 0., 0., 0., 0., 0., 0., 0., 0., 0., 0., 0.,\n",
              "       0., 0., 0., 0., 0., 0., 0., 0., 0., 0., 0., 0., 0., 0., 0., 0., 0.,\n",
              "       0., 0., 0., 0., 0., 0., 0., 0., 0., 0., 0., 0., 0., 0., 0., 0., 0.,\n",
              "       0., 0., 0., 0., 0., 0., 0., 0., 0., 0., 0., 0., 0., 0., 0., 0., 0.,\n",
              "       0., 0., 0., 0., 0., 0., 0., 0., 0., 0., 0., 0., 0., 0., 0., 0., 0.,\n",
              "       0., 0., 0., 0., 0., 0., 0., 0., 0., 0., 0., 0., 0., 0., 0., 0., 0.,\n",
              "       0., 0., 0., 0., 0., 0., 0., 0., 0., 0., 0., 0., 0., 0., 0., 0., 0.,\n",
              "       0., 0., 0., 0., 0., 0., 0., 0., 0., 0., 0., 0., 0., 0., 0., 0., 0.,\n",
              "       0., 0., 0., 0., 0., 0., 0., 0., 0., 0., 0., 0., 0., 0., 0., 0., 0.,\n",
              "       0., 0., 0., 0., 0., 0., 0., 0., 0., 0., 0., 0., 0., 0., 0., 0., 0.,\n",
              "       0., 0., 0., 0., 0., 0., 0., 0., 0., 0., 0., 0., 0., 0., 0., 0., 0.,\n",
              "       0., 0., 0., 0., 0., 0., 0., 0., 0., 0., 0., 0., 0., 0., 0., 0., 0.,\n",
              "       0., 0., 0., 0., 0., 0., 0., 0., 0., 0., 0., 0., 0., 0., 0., 0., 0.,\n",
              "       0., 0., 0., 0., 0., 0., 0., 0., 0., 0., 0.])"
            ]
          },
          "metadata": {},
          "execution_count": 85
        }
      ]
    },
    {
      "cell_type": "markdown",
      "metadata": {
        "id": "630d54af"
      },
      "source": [
        "### Comparing vectors\n",
        "\n",
        "These very large vectors can be used for a very basic semantic analysis: for example, by searching for the closest neighbors of a word. However, one must be careful with the distances used, related to certain metrics (Euclidean, Cosine) or possibly others related to belonging to sets (Matching, Jaccard). The normalization of vectors can also play a role. In any case, care must be taken not to over-interpret such results. "
      ],
      "id": "630d54af"
    },
    {
      "cell_type": "code",
      "metadata": {
        "id": "68583d6d",
        "colab": {
          "base_uri": "https://localhost:8080/"
        },
        "outputId": "be950eb5-2202-4b2e-ffe2-ed4cc246c246"
      },
      "source": [
        "def euclidean(u, v):\n",
        "    return np.linalg.norm(u-v)\n",
        "\n",
        "def length_norm(u):\n",
        "    return u / np.sqrt(u.dot(u))\n",
        "\n",
        "def cosine(u, v):\n",
        "    return 1.0 - length_norm(u).dot(length_norm(v))\n",
        "\n",
        "from sklearn.neighbors import NearestNeighbors\n",
        "\n",
        "def print_neighbors(distance, voc, co_oc, mot, k=10):\n",
        "    inv_voc = {id: w for w, id in voc.items()}\n",
        "    neigh = NearestNeighbors(k, algorithm='brute', metric=distance)\n",
        "    neigh.fit(co_oc) \n",
        "    dist, ind = neigh.kneighbors([co_oc[voc[mot]]])\n",
        "    print(\"Plus proches voisins de %s selon la distance '%s': \" % (mot, distance.__name__))\n",
        "    print([[inv_voc[i] for i in s[1:]] for s in ind])\n",
        "    \n",
        "print_neighbors(euclidean, vocab_5k, W2VEmbeddings, 'good')\n",
        "print_neighbors(cosine, vocab_5k, W2VEmbeddings, 'good')\n",
        "\n",
        "print_neighbors(euclidean, vocab_5k, GloveEmbeddings, 'good')\n",
        "print_neighbors(cosine, vocab_5k, GloveEmbeddings, 'good')"
      ],
      "id": "68583d6d",
      "execution_count": 86,
      "outputs": [
        {
          "output_type": "stream",
          "name": "stdout",
          "text": [
            "Plus proches voisins de good selon la distance 'euclidean': \n",
            "[['great', 'strongly', 'cool', 'decent', 'mediocre', 'bad', 'solid', 'terrific', 'surrounding']]\n",
            "Plus proches voisins de good selon la distance 'cosine': \n",
            "[['bad', 'great', 'decent', 'cool', 'strongly', 'mediocre', 'nice', 'funny', 'solid']]\n",
            "Plus proches voisins de good selon la distance 'euclidean': \n",
            "[['better', 'well', 'always', 'really', 'sure', 'way', 'so', 'but', 'excellent']]\n",
            "Plus proches voisins de good selon la distance 'cosine': \n",
            "[['better', 'really', 'always', 'you', 'well', 'excellent', 'very', 'things', 'think']]\n"
          ]
        },
        {
          "output_type": "stream",
          "name": "stderr",
          "text": [
            "/usr/local/lib/python3.7/dist-packages/ipykernel_launcher.py:5: RuntimeWarning: invalid value encountered in true_divide\n",
            "  \"\"\"\n"
          ]
        }
      ]
    },
    {
      "cell_type": "markdown",
      "metadata": {
        "id": "1b88e941"
      },
      "source": [
        "### Visualisation in two dimensions\n",
        "\n",
        "We will now use **principal component analysis** (PCA) to visualize our data in 2 dimensions.  This is equivalent to applying SVD to the covariance matrix of the data, so that the principal directions are independent of each other and maximize the variance of the data.\n",
        "We use the class ```PCA``` from the ```scikit-learn``` package: "
      ],
      "id": "1b88e941"
    },
    {
      "cell_type": "code",
      "metadata": {
        "id": "ce9f8f1c",
        "colab": {
          "base_uri": "https://localhost:8080/",
          "height": 265
        },
        "outputId": "ae926aaa-8cdf-48ab-fff4-5770cb02eba1"
      },
      "source": [
        "from sklearn.decomposition import PCA\n",
        "pca = PCA(n_components=2, whiten=True)\n",
        "Emb = pca.fit_transform(GloveEmbeddings)\n",
        "\n",
        "words = ['bad', 'good', 'best', 'worst', 'poor', 'great',\n",
        "         'dialog', 'role', 'actor', 'camera', 'scene',\n",
        "         'film', 'movie', 'award']\n",
        "ind_words = [vocab_5k[w] for w in words]\n",
        "x_words = [Emb[ind,0] for ind in ind_words]\n",
        "y_words = [Emb[ind,1] for ind in ind_words]\n",
        "\n",
        "fig, ax = plt.subplots()\n",
        "ax.scatter(x_words, y_words)\n",
        "\n",
        "for i, w in enumerate(words):\n",
        "    ax.annotate(w, (x_words[i], y_words[i]), (x_words[i] + 0.001, y_words[i] + 0.001))"
      ],
      "id": "ce9f8f1c",
      "execution_count": 87,
      "outputs": [
        {
          "output_type": "display_data",
          "data": {
            "image/png": "[encoded data removed]",
            "text/plain": [
              "<Figure size 432x288 with 1 Axes>"
            ]
          },
          "metadata": {
            "needs_background": "light"
          }
        }
      ]
    },
    {
      "cell_type": "code",
      "metadata": {
        "id": "087d4b7d",
        "colab": {
          "base_uri": "https://localhost:8080/",
          "height": 265
        },
        "outputId": "df81df29-f103-45ec-bdb7-e1c830b9ac7f"
      },
      "source": [
        "pca = PCA(n_components=2, whiten=True)\n",
        "Emb = pca.fit_transform(W2VEmbeddings)\n",
        "\n",
        "words = ['bad', 'good', 'best', 'worst', 'poor', 'great',\n",
        "         'dialog', 'role', 'actor', 'camera', 'scene',\n",
        "         'film', 'movie', 'award']\n",
        "ind_words = [vocab_5k[w] for w in words]\n",
        "x_words = [Emb[ind,0] for ind in ind_words]\n",
        "y_words = [Emb[ind,1] for ind in ind_words]\n",
        "\n",
        "fig, ax = plt.subplots()\n",
        "ax.scatter(x_words, y_words)\n",
        "\n",
        "for i, w in enumerate(words):\n",
        "    ax.annotate(w, (x_words[i], y_words[i]), (x_words[i] + 0.001, y_words[i] + 0.001))"
      ],
      "id": "087d4b7d",
      "execution_count": 88,
      "outputs": [
        {
          "output_type": "display_data",
          "data": {
            "image/png": "[encoded data removed]",
            "text/plain": [
              "<Figure size 432x288 with 1 Axes>"
            ]
          },
          "metadata": {
            "needs_background": "light"
          }
        }
      ]
    },
    {
      "cell_type": "markdown",
      "metadata": {
        "id": "5f5f3503"
      },
      "source": [
        "### Application to sentiment analysis\n",
        "\n",
        "We will now use these representations for sentiment analysis. \n",
        "The basic model, as before, will be constructed in two steps:\n",
        "- A function to obtain vector representations of criticism, from text, vocabulary, and vector representations of words. Such a function (to be completed below) will associate to each word of a review its embeddings, and create the representation for the whole sentence by summing these embeddings.\n",
        "- A classifier will take these representations as input and make a prediction. To achieve this, we can first use logistic regression ```LogisticRegression``` from ```scikit-learn```  "
      ],
      "id": "5f5f3503"
    },
    {
      "cell_type": "code",
      "metadata": {
        "id": "4c063e71"
      },
      "source": [
        "def sentence_representations(texts, vocabulary, embeddings, np_func=np.sum):\n",
        "    \"\"\"\n",
        "    Represent the sentences as a combination of the vector of its words.\n",
        "    Parameters\n",
        "    ----------\n",
        "    texts : a list of sentences   \n",
        "    vocabulary : dict\n",
        "        From words to indexes of vector.\n",
        "    embeddings : Matrix containing word representations\n",
        "    np_func : function (default: np.sum)\n",
        "        A numpy matrix operation that can be applied columnwise, \n",
        "        like `np.mean`, `np.sum`, or `np.prod`. \n",
        "    Returns\n",
        "    -------\n",
        "    np.array, dimension `(len(texts), embeddings.shape[1])`            \n",
        "    \"\"\"\n",
        "    i = 0\n",
        "    representations = np.zeros((len(texts),embeddings.shape[1]))\n",
        "    #print(representations.shape)\n",
        "    for sentence in texts:\n",
        "        emb = np.zeros(300)\n",
        "        for word in word_tokenize(sentence):\n",
        "            #GloveEmbeddings[vocab_5k['UNK']]\n",
        "            if word in vocabulary:\n",
        "                emb = np_func((emb, embeddings[vocabulary[word]]) ,axis=0)\n",
        "        representations[i] = emb\n",
        "        i= i+1\n",
        "    return representations"
      ],
      "id": "4c063e71",
      "execution_count": 89,
      "outputs": []
    },
    {
      "cell_type": "code",
      "metadata": {
        "id": "50947646"
      },
      "source": [
        "train_rep = sentence_representations(train_texts_splt, vocab_5k, GloveEmbeddings)\n",
        "val_rep = sentence_representations(val_texts, vocab_5k, GloveEmbeddings)"
      ],
      "id": "50947646",
      "execution_count": 90,
      "outputs": []
    },
    {
      "cell_type": "code",
      "metadata": {
        "id": "341771ed"
      },
      "source": [
        "from sklearn.linear_model import LogisticRegression"
      ],
      "id": "341771ed",
      "execution_count": 91,
      "outputs": []
    },
    {
      "cell_type": "code",
      "metadata": {
        "id": "a1cc6fac",
        "colab": {
          "base_uri": "https://localhost:8080/"
        },
        "outputId": "6367e9f9-9ce6-4387-eee1-aef6942a6ab8"
      },
      "source": [
        "# Fit the classifier on the transformed training data and test it on the transformed validation data\n",
        "regr = LogisticRegression()\n",
        "regr.fit(train_rep,train_labels_splt)"
      ],
      "id": "a1cc6fac",
      "execution_count": 92,
      "outputs": [
        {
          "output_type": "stream",
          "name": "stderr",
          "text": [
            "/usr/local/lib/python3.7/dist-packages/sklearn/linear_model/_logistic.py:940: ConvergenceWarning: lbfgs failed to converge (status=1):\n",
            "STOP: TOTAL NO. of ITERATIONS REACHED LIMIT.\n",
            "\n",
            "Increase the number of iterations (max_iter) or scale the data as shown in:\n",
            "    https://scikit-learn.org/stable/modules/preprocessing.html\n",
            "Please also refer to the documentation for alternative solver options:\n",
            "    https://scikit-learn.org/stable/modules/linear_model.html#logistic-regression\n",
            "  extra_warning_msg=_LOGISTIC_SOLVER_CONVERGENCE_MSG)\n"
          ]
        },
        {
          "output_type": "execute_result",
          "data": {
            "text/plain": [
              "LogisticRegression(C=1.0, class_weight=None, dual=False, fit_intercept=True,\n",
              "                   intercept_scaling=1, l1_ratio=None, max_iter=100,\n",
              "                   multi_class='auto', n_jobs=None, penalty='l2',\n",
              "                   random_state=None, solver='lbfgs', tol=0.0001, verbose=0,\n",
              "                   warm_start=False)"
            ]
          },
          "metadata": {},
          "execution_count": 92
        }
      ]
    },
    {
      "cell_type": "code",
      "metadata": {
        "id": "LyQh4juuztst"
      },
      "source": [
        "predictions  = regr.predict(val_rep)"
      ],
      "id": "LyQh4juuztst",
      "execution_count": 93,
      "outputs": []
    },
    {
      "cell_type": "code",
      "metadata": {
        "id": "M29Hjlhkz6Q9",
        "colab": {
          "base_uri": "https://localhost:8080/"
        },
        "outputId": "9ec744c8-acdf-454a-ce5a-0fe5fe022d1a"
      },
      "source": [
        "print(classification_report(val_labels, predictions))"
      ],
      "id": "M29Hjlhkz6Q9",
      "execution_count": 94,
      "outputs": [
        {
          "output_type": "stream",
          "name": "stdout",
          "text": [
            "              precision    recall  f1-score   support\n",
            "\n",
            "           0       0.77      0.71      0.74        28\n",
            "           1       0.67      0.73      0.70        22\n",
            "\n",
            "    accuracy                           0.72        50\n",
            "   macro avg       0.72      0.72      0.72        50\n",
            "weighted avg       0.72      0.72      0.72        50\n",
            "\n"
          ]
        }
      ]
    },
    {
      "cell_type": "code",
      "metadata": {
        "id": "p5uwgCEE0AFY",
        "colab": {
          "base_uri": "https://localhost:8080/"
        },
        "outputId": "97fc50b9-529a-492a-98a6-74fdb7c8acc8"
      },
      "source": [
        "regr.score(val_rep,val_labels)"
      ],
      "id": "p5uwgCEE0AFY",
      "execution_count": 95,
      "outputs": [
        {
          "output_type": "execute_result",
          "data": {
            "text/plain": [
              "0.72"
            ]
          },
          "metadata": {},
          "execution_count": 95
        }
      ]
    },
    {
      "cell_type": "markdown",
      "metadata": {
        "id": "e3fc1e71"
      },
      "source": [
        "You can know compare the various sets of embeddings, and answer the following question:\n",
        "- Why could we expect that the results obtained with embeddings pre-trained with Glove are better than others ? Is that verified ? And what changes if we remove the constraint of having the same 5000 words vocabulary as the other methods ? "
      ],
      "id": "e3fc1e71"
    },
    {
      "cell_type": "markdown",
      "metadata": {
        "id": "MDI5qJx3hl6J"
      },
      "source": [
        "Answer: because Glove was already pretrained - we expect better results than for word2vec(which we trained ourselves). If we remove the constraint of the same words, it wouldnt be possible to compare the representations with other methods."
      ],
      "id": "MDI5qJx3hl6J"
    },
    {
      "cell_type": "markdown",
      "metadata": {
        "id": "d1e5e351"
      },
      "source": [
        "## Fine-tuning of a Bert model\n",
        "\n",
        "Following the idea of the previous lab, fine-tune the lightest Bert model available on IMDB data and compare with the results you obtained just above."
      ],
      "id": "d1e5e351"
    },
    {
      "cell_type": "code",
      "metadata": {
        "id": "6164bac4",
        "colab": {
          "base_uri": "https://localhost:8080/"
        },
        "outputId": "4a1702ab-5c3e-415d-f785-985582860b14"
      },
      "source": [
        "!pip install transformers\n",
        "import transformers"
      ],
      "id": "6164bac4",
      "execution_count": 96,
      "outputs": [
        {
          "output_type": "stream",
          "name": "stdout",
          "text": [
            "Requirement already satisfied: transformers in /usr/local/lib/python3.7/dist-packages (4.12.3)\n",
            "Requirement already satisfied: filelock in /usr/local/lib/python3.7/dist-packages (from transformers) (3.3.0)\n",
            "Requirement already satisfied: sacremoses in /usr/local/lib/python3.7/dist-packages (from transformers) (0.0.46)\n",
            "Requirement already satisfied: requests in /usr/local/lib/python3.7/dist-packages (from transformers) (2.23.0)\n",
            "Requirement already satisfied: tokenizers<0.11,>=0.10.1 in /usr/local/lib/python3.7/dist-packages (from transformers) (0.10.3)\n",
            "Requirement already satisfied: tqdm>=4.27 in /usr/local/lib/python3.7/dist-packages (from transformers) (4.62.3)\n",
            "Requirement already satisfied: huggingface-hub<1.0,>=0.1.0 in /usr/local/lib/python3.7/dist-packages (from transformers) (0.1.0)\n",
            "Requirement already satisfied: numpy>=1.17 in /usr/local/lib/python3.7/dist-packages (from transformers) (1.19.5)\n",
            "Requirement already satisfied: importlib-metadata in /usr/local/lib/python3.7/dist-packages (from transformers) (4.8.1)\n",
            "Requirement already satisfied: regex!=2019.12.17 in /usr/local/lib/python3.7/dist-packages (from transformers) (2019.12.20)\n",
            "Requirement already satisfied: pyyaml>=5.1 in /usr/local/lib/python3.7/dist-packages (from transformers) (6.0)\n",
            "Requirement already satisfied: packaging>=20.0 in /usr/local/lib/python3.7/dist-packages (from transformers) (21.0)\n",
            "Requirement already satisfied: typing-extensions in /usr/local/lib/python3.7/dist-packages (from huggingface-hub<1.0,>=0.1.0->transformers) (3.7.4.3)\n",
            "Requirement already satisfied: pyparsing>=2.0.2 in /usr/local/lib/python3.7/dist-packages (from packaging>=20.0->transformers) (2.4.7)\n",
            "Requirement already satisfied: zipp>=0.5 in /usr/local/lib/python3.7/dist-packages (from importlib-metadata->transformers) (3.6.0)\n",
            "Requirement already satisfied: chardet<4,>=3.0.2 in /usr/local/lib/python3.7/dist-packages (from requests->transformers) (3.0.4)\n",
            "Requirement already satisfied: idna<3,>=2.5 in /usr/local/lib/python3.7/dist-packages (from requests->transformers) (2.10)\n",
            "Requirement already satisfied: certifi>=2017.4.17 in /usr/local/lib/python3.7/dist-packages (from requests->transformers) (2021.5.30)\n",
            "Requirement already satisfied: urllib3!=1.25.0,!=1.25.1,<1.26,>=1.21.1 in /usr/local/lib/python3.7/dist-packages (from requests->transformers) (1.24.3)\n",
            "Requirement already satisfied: click in /usr/local/lib/python3.7/dist-packages (from sacremoses->transformers) (7.1.2)\n",
            "Requirement already satisfied: joblib in /usr/local/lib/python3.7/dist-packages (from sacremoses->transformers) (1.0.1)\n",
            "Requirement already satisfied: six in /usr/local/lib/python3.7/dist-packages (from sacremoses->transformers) (1.15.0)\n"
          ]
        }
      ]
    },
    {
      "cell_type": "code",
      "metadata": {
        "id": "ObrGoFfdeGdU"
      },
      "source": [
        "from transformers import DistilBertTokenizerFast, DistilBertForSequenceClassification\n",
        "from transformers import Trainer, TrainingArguments"
      ],
      "id": "ObrGoFfdeGdU",
      "execution_count": 97,
      "outputs": []
    },
    {
      "cell_type": "code",
      "metadata": {
        "id": "wd5U4wHWeNJm"
      },
      "source": [
        "model_name = 'distilbert-base-cased'  \n",
        "device_name = 'cuda'       \n",
        "max_length = 512                                                   \n",
        "\n",
        "cached_model_directory_name = 'distilbert'  "
      ],
      "id": "wd5U4wHWeNJm",
      "execution_count": 98,
      "outputs": []
    },
    {
      "cell_type": "code",
      "metadata": {
        "id": "AOpYLa4hfTa0"
      },
      "source": [
        "tokenizer = DistilBertTokenizerFast.from_pretrained(model_name) "
      ],
      "id": "AOpYLa4hfTa0",
      "execution_count": 99,
      "outputs": []
    },
    {
      "cell_type": "code",
      "metadata": {
        "id": "Pw_TMDJlie1L",
        "colab": {
          "base_uri": "https://localhost:8080/"
        },
        "outputId": "9a9ef8bf-fc35-40e5-c320-0791ea3dfb70"
      },
      "source": [
        "len(train_texts_splt[0])"
      ],
      "id": "Pw_TMDJlie1L",
      "execution_count": 100,
      "outputs": [
        {
          "output_type": "execute_result",
          "data": {
            "text/plain": [
              "1224"
            ]
          },
          "metadata": {},
          "execution_count": 100
        }
      ]
    },
    {
      "cell_type": "code",
      "metadata": {
        "id": "Ymi_3hNcfmPk"
      },
      "source": [
        "train_encodings = tokenizer(train_texts_splt, truncation=True, padding=True, max_length=max_length)\n",
        "test_encodings  = tokenizer(val_texts, truncation=True, padding=True, max_length=max_length)"
      ],
      "id": "Ymi_3hNcfmPk",
      "execution_count": 101,
      "outputs": []
    },
    {
      "cell_type": "code",
      "metadata": {
        "id": "OSuCDrLhf5XJ"
      },
      "source": [
        "import torch\n",
        "class MyDataset(torch.utils.data.Dataset):\n",
        "    def __init__(self, encodings, labels):\n",
        "        self.encodings = encodings\n",
        "        self.labels = labels\n",
        "\n",
        "    def __getitem__(self, idx):\n",
        "        item = {key: torch.tensor(val[idx]) for key, val in self.encodings.items()}\n",
        "        item['labels'] = torch.tensor(self.labels[idx])\n",
        "        return item\n",
        "\n",
        "    def __len__(self):\n",
        "        return len(self.labels)"
      ],
      "id": "OSuCDrLhf5XJ",
      "execution_count": 102,
      "outputs": []
    },
    {
      "cell_type": "code",
      "metadata": {
        "id": "0-Z8D1A9f6le"
      },
      "source": [
        "train_dataset = MyDataset(train_encodings, train_labels_splt)\n",
        "test_dataset = MyDataset(test_encodings, val_labels)"
      ],
      "id": "0-Z8D1A9f6le",
      "execution_count": 103,
      "outputs": []
    },
    {
      "cell_type": "code",
      "metadata": {
        "id": "G64IkxcVgBFX",
        "colab": {
          "base_uri": "https://localhost:8080/"
        },
        "outputId": "8295593b-06d5-4e47-aa34-6aa7ee47e206"
      },
      "source": [
        "model = DistilBertForSequenceClassification.from_pretrained(model_name, num_labels=2).to(device_name)"
      ],
      "id": "G64IkxcVgBFX",
      "execution_count": 104,
      "outputs": [
        {
          "output_type": "stream",
          "name": "stderr",
          "text": [
            "Some weights of the model checkpoint at distilbert-base-cased were not used when initializing DistilBertForSequenceClassification: ['vocab_layer_norm.weight', 'vocab_layer_norm.bias', 'vocab_transform.bias', 'vocab_projector.weight', 'vocab_transform.weight', 'vocab_projector.bias']\n",
            "- This IS expected if you are initializing DistilBertForSequenceClassification from the checkpoint of a model trained on another task or with another architecture (e.g. initializing a BertForSequenceClassification model from a BertForPreTraining model).\n",
            "- This IS NOT expected if you are initializing DistilBertForSequenceClassification from the checkpoint of a model that you expect to be exactly identical (initializing a BertForSequenceClassification model from a BertForSequenceClassification model).\n",
            "Some weights of DistilBertForSequenceClassification were not initialized from the model checkpoint at distilbert-base-cased and are newly initialized: ['pre_classifier.bias', 'pre_classifier.weight', 'classifier.weight', 'classifier.bias']\n",
            "You should probably TRAIN this model on a down-stream task to be able to use it for predictions and inference.\n"
          ]
        }
      ]
    },
    {
      "cell_type": "code",
      "metadata": {
        "id": "rp8VuRwngLNv"
      },
      "source": [
        "training_args = TrainingArguments(\n",
        "    num_train_epochs= 10,              # total number of training epochs\n",
        "    per_device_train_batch_size=10,  # batch size per device during training\n",
        "    per_device_eval_batch_size=10,   # batch size for evaluation\n",
        "    learning_rate=5e-5,              # initial learning rate for Adam optimizer\n",
        "    warmup_steps=10,                # number of warmup steps for learning rate scheduler (set lower because of small dataset size)\n",
        "    weight_decay=0.01,               # strength of weight decay\n",
        "    output_dir='./results',          # output directory\n",
        "    logging_dir='./logs',            # directory for storing logs\n",
        "    logging_steps=10,               # number of steps to output logging (set lower because of small dataset size)\n",
        "    evaluation_strategy='steps',     # evaluate during fine-tuning so that we can see progress\n",
        ")"
      ],
      "id": "rp8VuRwngLNv",
      "execution_count": 105,
      "outputs": []
    },
    {
      "cell_type": "code",
      "metadata": {
        "id": "pk2VHJ5CmJUh"
      },
      "source": [
        "from collections import defaultdict\n",
        "import random\n",
        "import pickle\n",
        "\n",
        "\n",
        "import gdown\n",
        "\n",
        "\n",
        "import gzip\n",
        "import json\n",
        "import pandas as pd\n",
        "import numpy as np\n",
        "\n",
        "from sklearn.metrics import accuracy_score, precision_recall_fscore_support, classification_report\n",
        "from sklearn.feature_extraction.text import TfidfVectorizer\n",
        "from sklearn.linear_model import LogisticRegression\n",
        "import torch\n",
        "\n",
        "%matplotlib inline\n",
        "import matplotlib.pyplot as plt\n",
        "import seaborn as sns\n",
        "from matplotlib import ticker\n",
        "sns.set(style='ticks', font_scale=1.2)"
      ],
      "id": "pk2VHJ5CmJUh",
      "execution_count": 106,
      "outputs": []
    },
    {
      "cell_type": "code",
      "metadata": {
        "id": "ZlrG-445gOxa"
      },
      "source": [
        "def compute_metrics(pred):\n",
        "  labels = pred.label_ids\n",
        "  preds = pred.predictions.argmax(-1)\n",
        "  acc = accuracy_score(labels, preds)\n",
        "  return {\n",
        "      'accuracy': acc,\n",
        "  }"
      ],
      "id": "ZlrG-445gOxa",
      "execution_count": 107,
      "outputs": []
    },
    {
      "cell_type": "code",
      "metadata": {
        "id": "ZfsJYoLrgT7m"
      },
      "source": [
        "trainer = Trainer(\n",
        "    model=model,                         # the instantiated 🤗 Transformers model to be trained\n",
        "    args=training_args,                  # training arguments, defined above\n",
        "    train_dataset=train_dataset,         # training dataset\n",
        "    eval_dataset=test_dataset,           # evaluation dataset (usually a validation set; here we just send our test set)\n",
        "    compute_metrics=compute_metrics      # our custom evaluation function \n",
        ")"
      ],
      "id": "ZfsJYoLrgT7m",
      "execution_count": 108,
      "outputs": []
    },
    {
      "cell_type": "code",
      "metadata": {
        "id": "ZTfzXv7VjTWv"
      },
      "source": [
        "from sklearn.metrics import accuracy_score, precision_recall_fscore_support, classification_report"
      ],
      "id": "ZTfzXv7VjTWv",
      "execution_count": 109,
      "outputs": []
    },
    {
      "cell_type": "code",
      "metadata": {
        "id": "WY0D9PVvgfQH",
        "colab": {
          "base_uri": "https://localhost:8080/",
          "height": 1000
        },
        "outputId": "15c63799-26f1-4f30-aac1-77cf30366564"
      },
      "source": [
        "trainer.train()"
      ],
      "id": "WY0D9PVvgfQH",
      "execution_count": 110,
      "outputs": [
        {
          "output_type": "stream",
          "name": "stderr",
          "text": [
            "***** Running training *****\n",
            "  Num examples = 200\n",
            "  Num Epochs = 10\n",
            "  Instantaneous batch size per device = 10\n",
            "  Total train batch size (w. parallel, distributed & accumulation) = 10\n",
            "  Gradient Accumulation steps = 1\n",
            "  Total optimization steps = 200\n"
          ]
        },
        {
          "output_type": "display_data",
          "data": {
            "text/html": [
              "\n",
              "    <div>\n",
              "      \n",
              "      <progress value='200' max='200' style='width:300px; height:20px; vertical-align: middle;'></progress>\n",
              "      [200/200 03:44, Epoch 10/10]\n",
              "    </div>\n",
              "    <table border=\"1\" class=\"dataframe\">\n",
              "  <thead>\n",
              "    <tr style=\"text-align: left;\">\n",
              "      <th>Step</th>\n",
              "      <th>Training Loss</th>\n",
              "      <th>Validation Loss</th>\n",
              "      <th>Accuracy</th>\n",
              "    </tr>\n",
              "  </thead>\n",
              "  <tbody>\n",
              "    <tr>\n",
              "      <td>10</td>\n",
              "      <td>0.694100</td>\n",
              "      <td>0.690783</td>\n",
              "      <td>0.420000</td>\n",
              "    </tr>\n",
              "    <tr>\n",
              "      <td>20</td>\n",
              "      <td>0.687500</td>\n",
              "      <td>0.699373</td>\n",
              "      <td>0.420000</td>\n",
              "    </tr>\n",
              "    <tr>\n",
              "      <td>30</td>\n",
              "      <td>0.541400</td>\n",
              "      <td>0.630785</td>\n",
              "      <td>0.660000</td>\n",
              "    </tr>\n",
              "    <tr>\n",
              "      <td>40</td>\n",
              "      <td>0.509300</td>\n",
              "      <td>0.490490</td>\n",
              "      <td>0.780000</td>\n",
              "    </tr>\n",
              "    <tr>\n",
              "      <td>50</td>\n",
              "      <td>0.272900</td>\n",
              "      <td>0.524313</td>\n",
              "      <td>0.760000</td>\n",
              "    </tr>\n",
              "    <tr>\n",
              "      <td>60</td>\n",
              "      <td>0.255700</td>\n",
              "      <td>0.611984</td>\n",
              "      <td>0.780000</td>\n",
              "    </tr>\n",
              "    <tr>\n",
              "      <td>70</td>\n",
              "      <td>0.055000</td>\n",
              "      <td>0.815256</td>\n",
              "      <td>0.820000</td>\n",
              "    </tr>\n",
              "    <tr>\n",
              "      <td>80</td>\n",
              "      <td>0.171000</td>\n",
              "      <td>0.762801</td>\n",
              "      <td>0.800000</td>\n",
              "    </tr>\n",
              "    <tr>\n",
              "      <td>90</td>\n",
              "      <td>0.006900</td>\n",
              "      <td>0.969383</td>\n",
              "      <td>0.820000</td>\n",
              "    </tr>\n",
              "    <tr>\n",
              "      <td>100</td>\n",
              "      <td>0.059100</td>\n",
              "      <td>0.814625</td>\n",
              "      <td>0.800000</td>\n",
              "    </tr>\n",
              "    <tr>\n",
              "      <td>110</td>\n",
              "      <td>0.055100</td>\n",
              "      <td>0.838849</td>\n",
              "      <td>0.800000</td>\n",
              "    </tr>\n",
              "    <tr>\n",
              "      <td>120</td>\n",
              "      <td>0.003100</td>\n",
              "      <td>1.126207</td>\n",
              "      <td>0.800000</td>\n",
              "    </tr>\n",
              "    <tr>\n",
              "      <td>130</td>\n",
              "      <td>0.004000</td>\n",
              "      <td>0.934403</td>\n",
              "      <td>0.780000</td>\n",
              "    </tr>\n",
              "    <tr>\n",
              "      <td>140</td>\n",
              "      <td>0.055600</td>\n",
              "      <td>0.889091</td>\n",
              "      <td>0.800000</td>\n",
              "    </tr>\n",
              "    <tr>\n",
              "      <td>150</td>\n",
              "      <td>0.053500</td>\n",
              "      <td>0.851332</td>\n",
              "      <td>0.820000</td>\n",
              "    </tr>\n",
              "    <tr>\n",
              "      <td>160</td>\n",
              "      <td>0.002800</td>\n",
              "      <td>0.949948</td>\n",
              "      <td>0.780000</td>\n",
              "    </tr>\n",
              "    <tr>\n",
              "      <td>170</td>\n",
              "      <td>0.040800</td>\n",
              "      <td>1.016369</td>\n",
              "      <td>0.800000</td>\n",
              "    </tr>\n",
              "    <tr>\n",
              "      <td>180</td>\n",
              "      <td>0.002300</td>\n",
              "      <td>1.057621</td>\n",
              "      <td>0.820000</td>\n",
              "    </tr>\n",
              "    <tr>\n",
              "      <td>190</td>\n",
              "      <td>0.002300</td>\n",
              "      <td>1.084778</td>\n",
              "      <td>0.820000</td>\n",
              "    </tr>\n",
              "    <tr>\n",
              "      <td>200</td>\n",
              "      <td>0.037700</td>\n",
              "      <td>1.090395</td>\n",
              "      <td>0.820000</td>\n",
              "    </tr>\n",
              "  </tbody>\n",
              "</table><p>"
            ],
            "text/plain": [
              "<IPython.core.display.HTML object>"
            ]
          },
          "metadata": {}
        },
        {
          "output_type": "stream",
          "name": "stderr",
          "text": [
            "***** Running Evaluation *****\n",
            "  Num examples = 50\n",
            "  Batch size = 10\n",
            "***** Running Evaluation *****\n",
            "  Num examples = 50\n",
            "  Batch size = 10\n",
            "***** Running Evaluation *****\n",
            "  Num examples = 50\n",
            "  Batch size = 10\n",
            "***** Running Evaluation *****\n",
            "  Num examples = 50\n",
            "  Batch size = 10\n",
            "***** Running Evaluation *****\n",
            "  Num examples = 50\n",
            "  Batch size = 10\n",
            "***** Running Evaluation *****\n",
            "  Num examples = 50\n",
            "  Batch size = 10\n",
            "***** Running Evaluation *****\n",
            "  Num examples = 50\n",
            "  Batch size = 10\n",
            "***** Running Evaluation *****\n",
            "  Num examples = 50\n",
            "  Batch size = 10\n",
            "***** Running Evaluation *****\n",
            "  Num examples = 50\n",
            "  Batch size = 10\n",
            "***** Running Evaluation *****\n",
            "  Num examples = 50\n",
            "  Batch size = 10\n",
            "***** Running Evaluation *****\n",
            "  Num examples = 50\n",
            "  Batch size = 10\n",
            "***** Running Evaluation *****\n",
            "  Num examples = 50\n",
            "  Batch size = 10\n",
            "***** Running Evaluation *****\n",
            "  Num examples = 50\n",
            "  Batch size = 10\n",
            "***** Running Evaluation *****\n",
            "  Num examples = 50\n",
            "  Batch size = 10\n",
            "***** Running Evaluation *****\n",
            "  Num examples = 50\n",
            "  Batch size = 10\n",
            "***** Running Evaluation *****\n",
            "  Num examples = 50\n",
            "  Batch size = 10\n",
            "***** Running Evaluation *****\n",
            "  Num examples = 50\n",
            "  Batch size = 10\n",
            "***** Running Evaluation *****\n",
            "  Num examples = 50\n",
            "  Batch size = 10\n",
            "***** Running Evaluation *****\n",
            "  Num examples = 50\n",
            "  Batch size = 10\n",
            "***** Running Evaluation *****\n",
            "  Num examples = 50\n",
            "  Batch size = 10\n",
            "\n",
            "\n",
            "Training completed. Do not forget to share your model on huggingface.co/models =)\n",
            "\n",
            "\n"
          ]
        },
        {
          "output_type": "execute_result",
          "data": {
            "text/plain": [
              "TrainOutput(global_step=200, training_loss=0.17550568376667797, metrics={'train_runtime': 225.7437, 'train_samples_per_second': 8.86, 'train_steps_per_second': 0.886, 'total_flos': 264934797312000.0, 'train_loss': 0.17550568376667797, 'epoch': 10.0})"
            ]
          },
          "metadata": {},
          "execution_count": 110
        }
      ]
    },
    {
      "cell_type": "code",
      "metadata": {
        "id": "g7kZG1kjgjJX",
        "colab": {
          "base_uri": "https://localhost:8080/"
        },
        "outputId": "4aa5085b-5e96-44b9-9e66-b5090844670a"
      },
      "source": [
        "trainer.save_model(cached_model_directory_name)"
      ],
      "id": "g7kZG1kjgjJX",
      "execution_count": 111,
      "outputs": [
        {
          "output_type": "stream",
          "name": "stderr",
          "text": [
            "Saving model checkpoint to distilbert\n",
            "Configuration saved in distilbert/config.json\n",
            "Model weights saved in distilbert/pytorch_model.bin\n"
          ]
        }
      ]
    },
    {
      "cell_type": "code",
      "metadata": {
        "id": "5fdv4fJgi2tl",
        "colab": {
          "base_uri": "https://localhost:8080/",
          "height": 188
        },
        "outputId": "eb930b5e-8559-458e-ebda-7e07747e14fb"
      },
      "source": [
        "trainer.evaluate()"
      ],
      "id": "5fdv4fJgi2tl",
      "execution_count": 112,
      "outputs": [
        {
          "output_type": "stream",
          "name": "stderr",
          "text": [
            "***** Running Evaluation *****\n",
            "  Num examples = 50\n",
            "  Batch size = 10\n"
          ]
        },
        {
          "output_type": "display_data",
          "data": {
            "text/html": [
              "\n",
              "    <div>\n",
              "      \n",
              "      <progress value='5' max='5' style='width:300px; height:20px; vertical-align: middle;'></progress>\n",
              "      [5/5 00:01]\n",
              "    </div>\n",
              "    "
            ],
            "text/plain": [
              "<IPython.core.display.HTML object>"
            ]
          },
          "metadata": {}
        },
        {
          "output_type": "execute_result",
          "data": {
            "text/plain": [
              "{'epoch': 10.0,\n",
              " 'eval_accuracy': 0.82,\n",
              " 'eval_loss': 1.0903948545455933,\n",
              " 'eval_runtime': 1.7269,\n",
              " 'eval_samples_per_second': 28.953,\n",
              " 'eval_steps_per_second': 2.895}"
            ]
          },
          "metadata": {},
          "execution_count": 112
        }
      ]
    },
    {
      "cell_type": "code",
      "metadata": {
        "id": "qApZcz9Ti7fw",
        "colab": {
          "base_uri": "https://localhost:8080/",
          "height": 87
        },
        "outputId": "fe8a920a-c0ec-4385-f8cc-f59b48a8ac59"
      },
      "source": [
        "predicted_results = trainer.predict(test_dataset)"
      ],
      "id": "qApZcz9Ti7fw",
      "execution_count": 113,
      "outputs": [
        {
          "output_type": "stream",
          "name": "stderr",
          "text": [
            "***** Running Prediction *****\n",
            "  Num examples = 50\n",
            "  Batch size = 10\n"
          ]
        },
        {
          "output_type": "display_data",
          "data": {
            "text/html": [
              "\n",
              "    <div>\n",
              "      \n",
              "      <progress value='10' max='5' style='width:300px; height:20px; vertical-align: middle;'></progress>\n",
              "      [5/5 00:03]\n",
              "    </div>\n",
              "    "
            ],
            "text/plain": [
              "<IPython.core.display.HTML object>"
            ]
          },
          "metadata": {}
        }
      ]
    },
    {
      "cell_type": "code",
      "metadata": {
        "id": "fBvByhTzjCnD",
        "colab": {
          "base_uri": "https://localhost:8080/"
        },
        "outputId": "b7e88dea-9d26-42a9-ed1c-c59e509e4d11"
      },
      "source": [
        "predicted_results.predictions.shape"
      ],
      "id": "fBvByhTzjCnD",
      "execution_count": 114,
      "outputs": [
        {
          "output_type": "execute_result",
          "data": {
            "text/plain": [
              "(50, 2)"
            ]
          },
          "metadata": {},
          "execution_count": 114
        }
      ]
    },
    {
      "cell_type": "code",
      "metadata": {
        "id": "qXZYF6GnjEI7"
      },
      "source": [
        "predicted_labels = predicted_results.predictions.argmax(-1) # Get the highest probability prediction\n",
        "predicted_labels = predicted_labels.flatten().tolist()      # Flatten the predictions into a 1D list"
      ],
      "id": "qXZYF6GnjEI7",
      "execution_count": 115,
      "outputs": []
    },
    {
      "cell_type": "code",
      "metadata": {
        "id": "iQ2RIZg2jEqU",
        "colab": {
          "base_uri": "https://localhost:8080/"
        },
        "outputId": "688d4800-723c-4c57-9d58-0011c2e7bb9a"
      },
      "source": [
        "len(predicted_labels)"
      ],
      "id": "iQ2RIZg2jEqU",
      "execution_count": 116,
      "outputs": [
        {
          "output_type": "execute_result",
          "data": {
            "text/plain": [
              "50"
            ]
          },
          "metadata": {},
          "execution_count": 116
        }
      ]
    },
    {
      "cell_type": "code",
      "metadata": {
        "id": "wZoi7mRijLw7",
        "colab": {
          "base_uri": "https://localhost:8080/"
        },
        "outputId": "8c7aa889-4a08-424d-f697-bab501d3320a"
      },
      "source": [
        "print(classification_report(val_labels, \n",
        "                            predicted_labels))"
      ],
      "id": "wZoi7mRijLw7",
      "execution_count": 117,
      "outputs": [
        {
          "output_type": "stream",
          "name": "stdout",
          "text": [
            "              precision    recall  f1-score   support\n",
            "\n",
            "           0       0.91      0.75      0.82        28\n",
            "           1       0.74      0.91      0.82        22\n",
            "\n",
            "    accuracy                           0.82        50\n",
            "   macro avg       0.83      0.83      0.82        50\n",
            "weighted avg       0.84      0.82      0.82        50\n",
            "\n"
          ]
        }
      ]
    }
  ]
}